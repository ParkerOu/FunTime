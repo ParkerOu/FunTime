{
 "cells": [
  {
   "cell_type": "markdown",
   "metadata": {},
   "source": [
    "## FunTime比價網\n",
    "### 爬取跳轉後資訊"
   ]
  },
  {
   "cell_type": "code",
   "execution_count": 1,
   "metadata": {},
   "outputs": [],
   "source": [
    "import re\n",
    "import json\n",
    "import requests\n",
    "from bs4 import BeautifulSoup\n",
    "\n",
    "headers = json.loads(r'''{\n",
    "    \"Accept\": \"text/html,application/xhtml+xml,application/xml;q=0.9,image/webp,image/apng,*/*;q=0.8\",\n",
    "    \"Accept-Encoding\": \"gzip, deflate, br\",\n",
    "    \"Accept-Language\": \"zh-TW,zh;q=0.9,en-US;q=0.8,en;q=0.7\",\n",
    "    \"Cache-Control\": \"max-age=0\",\n",
    "    \"Connection\": \"keep-alive\",\n",
    "    \"Cookie\": \"packet_uid=0A58A13E-CDF5-9DCA-3624-33440A670283; PHPSESSID=eq5151i40ruu1l1gf4nv0oelt0\",\n",
    "    \"Host\": \"www.funtime.com.tw\",\n",
    "    \"Upgrade-Insecure-Requests\": \"1\",\n",
    "    \"User-Agent\": \"Mozilla/5.0 (Windows NT 10.0; Win64; x64) AppleWebKit/537.36 (KHTML, like Gecko) Chrome/65.0.3325.181 Safari/537.36 OPR/52.0.2871.64\"\n",
    "}''')"
   ]
  },
  {
   "cell_type": "code",
   "execution_count": null,
   "metadata": {},
   "outputs": [],
   "source": []
  },
  {
   "cell_type": "code",
   "execution_count": 2,
   "metadata": {},
   "outputs": [],
   "source": [
    "# 訂房地點查中壢，雙人房\n",
    "url = 'https://www.funtime.com.tw/ovehotel/search-hotel/zhongli?resultID=3&checkin=2018-07-06&checkout=2018-07-07&Rooms=1&adults_1=2&label=indexsearch&lowRate=0&sort=Popularity-desc&pageIndex=0'"
   ]
  },
  {
   "cell_type": "code",
   "execution_count": 3,
   "metadata": {},
   "outputs": [],
   "source": [
    "resp = requests.get(url, headers=headers)\n",
    "soup = BeautifulSoup(resp.text, 'lxml')"
   ]
  },
  {
   "cell_type": "code",
   "execution_count": 4,
   "metadata": {},
   "outputs": [],
   "source": [
    "infos = soup.find_all(\"div\", {\"class\":\"result-hotel\"})"
   ]
  },
  {
   "cell_type": "code",
   "execution_count": 6,
   "metadata": {},
   "outputs": [
    {
     "data": {
      "text/plain": [
       "'/ovehotel/oh_adv_load.php?link=/ovehotel/result_hotel.php%3Fdestination%3Dplace%253Azhongli%26resultID%3D3%26checkin%3D2018-07-06%26checkout%3D2018-07-07%26Rooms%3D1%26adults_1%3D2%26label%3Dindexsearch%26lowRate%3D0%26sort%3DPopularity-desc%26pageIndex%3D0%26fileName%3DKings_Paradise_Hotel&text=景園大飯店'"
      ]
     },
     "execution_count": 6,
     "metadata": {},
     "output_type": "execute_result"
    }
   ],
   "source": [
    "infos[5].select('a')[0]['href']"
   ]
  },
  {
   "cell_type": "code",
   "execution_count": 7,
   "metadata": {},
   "outputs": [
    {
     "data": {
      "text/plain": [
       "'https://www.funtime.com.tw/ovehotel/oh_adv_load.php?link=/ovehotel/result_hotel.php%3Fdestination%3Dplace%253Azhongli%26resultID%3D3%26checkin%3D2018-07-06%26checkout%3D2018-07-07%26Rooms%3D1%26adults_1%3D2%26label%3Dindexsearch%26lowRate%3D0%26sort%3DPopularity-desc%26pageIndex%3D0%26fileName%3DKings_Paradise_Hotel&text=景園大飯店'"
      ]
     },
     "execution_count": 7,
     "metadata": {},
     "output_type": "execute_result"
    }
   ],
   "source": [
    "href = 'https://www.funtime.com.tw' + infos[5].select('a')[0]['href']\n",
    "href"
   ]
  },
  {
   "cell_type": "code",
   "execution_count": null,
   "metadata": {},
   "outputs": [],
   "source": []
  },
  {
   "cell_type": "code",
   "execution_count": 8,
   "metadata": {},
   "outputs": [],
   "source": [
    "detail_page_links = [\"https://www.funtime.com.tw\" + info.select('a')[0]['href'] for info in infos]"
   ]
  },
  {
   "cell_type": "code",
   "execution_count": 9,
   "metadata": {
    "scrolled": true
   },
   "outputs": [
    {
     "data": {
      "text/plain": [
       "['https://www.funtime.com.tw/ovehotel/oh_adv_load.php?link=/ovehotel/result_hotel.php%3Fdestination%3Dplace%253Azhongli%26resultID%3D3%26checkin%3D2018-07-06%26checkout%3D2018-07-07%26Rooms%3D1%26adults_1%3D2%26label%3Dindexsearch%26lowRate%3D0%26sort%3DPopularity-desc%26pageIndex%3D0%26fileName%3DHotel_Kuva_Chateau&text=古華花園飯店',\n",
       " 'https://www.funtime.com.tw/ovehotel/oh_adv_load.php?link=/ovehotel/result_hotel.php%3Fdestination%3Dplace%253Azhongli%26resultID%3D3%26checkin%3D2018-07-06%26checkout%3D2018-07-07%26Rooms%3D1%26adults_1%3D2%26label%3Dindexsearch%26lowRate%3D0%26sort%3DPopularity-desc%26pageIndex%3D0%26fileName%3DHotel_MU_Zhongli_City&text=沐楓商旅',\n",
       " 'https://www.funtime.com.tw/ovehotel/oh_adv_load.php?link=/ovehotel/result_hotel.php%3Fdestination%3Dplace%253Azhongli%26resultID%3D3%26checkin%3D2018-07-06%26checkout%3D2018-07-07%26Rooms%3D1%26adults_1%3D2%26label%3Dindexsearch%26lowRate%3D0%26sort%3DPopularity-desc%26pageIndex%3D0%26fileName%3DCentral_Hotel_Zhongli_City&text=中央大飯店']"
      ]
     },
     "execution_count": 9,
     "metadata": {},
     "output_type": "execute_result"
    }
   ],
   "source": [
    "detail_page_links[:3]"
   ]
  },
  {
   "cell_type": "code",
   "execution_count": null,
   "metadata": {},
   "outputs": [],
   "source": []
  },
  {
   "cell_type": "code",
   "execution_count": 10,
   "metadata": {},
   "outputs": [
    {
     "data": {
      "text/plain": [
       "'44'"
      ]
     },
     "execution_count": 10,
     "metadata": {},
     "output_type": "execute_result"
    }
   ],
   "source": [
    "# 一頁顯示30個旅館\n",
    "hotel_count = soup.find_all(\"span\", {\"class\":\"hotel-count\"})\n",
    "hotel_count[1].text"
   ]
  },
  {
   "cell_type": "code",
   "execution_count": null,
   "metadata": {},
   "outputs": [],
   "source": []
  },
  {
   "cell_type": "markdown",
   "metadata": {},
   "source": [
    "### 旅館詳細頁面\n",
    "### 爬取 商家、內容、房價"
   ]
  },
  {
   "cell_type": "code",
   "execution_count": 11,
   "metadata": {},
   "outputs": [],
   "source": [
    "url = detail_page_links[0]\n",
    "resp = requests.get(url, headers=headers)\n",
    "soup = BeautifulSoup(resp.text, 'lxml')"
   ]
  },
  {
   "cell_type": "code",
   "execution_count": 12,
   "metadata": {
    "scrolled": false
   },
   "outputs": [
    {
     "data": {
      "text/plain": [
       "'<!DOCTYPE html>\\r\\n<html>\\r\\n<head>\\r\\n\\t    <meta charset=\"utf-8\"/>\\r\\n    <title>前往古華花園飯店 | FunTime國際飯店比價</title>\\r\\n\\t\\r\\n\\t<meta name=\"viewport\" content=\"width=device-width, initial-scale=1.0, maximum-scale=1.0, user-scalable=no\"/>\\r\\n\\t\\r\\n    <meta name=\"keywords\" content=\"\">\\r\\n    <meta name=\"description\" content=\"前往古華花園飯店，比價後最便宜!\">\\r\\n\\t<meta name=\"robots\" content=\"noindex\" />\\r\\n    <script type=\"text/javascript\" src=\"https://cdnjs.cloudflare.com/ajax/libs/jquery-tools/1.2.7/jquery.tools.min.js\"></script>\\r\\n    <script type=\"text/javascript\" src=\"../funtime_cola/javascript/datetime_parse.fun.mini.js\"></script>\\r\\n    <script type=\"text/javascript\">\\r\\n        $(document).ready(function () {   \\r\\n\\t\\t\\tsetTimeout(\" to_link(); \" , 100);\\t\\r\\n\\t\\t\\thistory.replaceState(null, null, document.referrer);\\r\\n        });\\r\\n\\t\\t\\r\\n\\t\\tfunction to_link(){\\r\\n\\t\\t\\tvar link = \\'/ovehotel/result_hotel.php?destination=place%3Azhongli&resultID=3&checkin=2018-07-06&checkout=2018-07-07&Rooms=1&adults_1=2&label=indexsearch&lowRate=0&sort=Popularity-desc&pageIndex=0&fileName=Hotel_Kuva_Chateau\\';\\r\\n\\t\\t\\tif(link!=\\'\\'){\\r\\n\\t\\t\\t\\tlocation = link;\\r\\n\\t\\t\\t}else{\\r\\n\\t\\t\\t\\tlocation = \"/ovehotel/\";\\r\\n\\t\\t\\t}\\r\\n\\t\\t\\t\\r\\n\\t\\t\\t\\r\\n\\t\\t}\\r\\n\\r\\n    </script>\\r\\n\\t<link href=\"css/oh_adv_load.css\" rel=\"stylesheet\" type=\"text/css\" />\\t\\r\\n    \\r\\n</head>\\r\\n<body>\\r\\n\\r\\n\\t<div id=\"wrapper\">\\r\\n\\t\\t<div class = \"title\" >\\r\\n\\t\\t\\t正在搜尋「古華花園飯店」飯店\\r\\n\\t\\t\\r\\n\\t\\t</div>\\r\\n\\t\\t<div class=\"spinner\">\\r\\n\\t\\t  <div class=\"rect1\"></div>\\r\\n\\t\\t  <div class=\"rect2\"></div>\\r\\n\\t\\t  <div class=\"rect3\"></div>\\r\\n\\t\\t  <div class=\"rect4\"></div>\\r\\n\\t\\t  <div class=\"rect5\"></div>\\r\\n\\t\\t</div>\\r\\n\\t\\r\\n\\t</div>\\r\\n<div id=\"cheapair_form\"></div>\\r\\n</body>\\r\\n</html>\\r\\n'"
      ]
     },
     "execution_count": 12,
     "metadata": {},
     "output_type": "execute_result"
    }
   ],
   "source": [
    "resp.text"
   ]
  },
  {
   "cell_type": "markdown",
   "metadata": {},
   "source": [
    "#### 顯示跳轉資訊，需要修正\n",
    "http://docs.python-requests.org/en/latest/user/quickstart/#redirection-and-history\n",
    "還是無法解決"
   ]
  },
  {
   "cell_type": "code",
   "execution_count": 13,
   "metadata": {},
   "outputs": [],
   "source": [
    "headers = json.loads(r'''{\n",
    "    \"Accept\": \"text/html,application/xhtml+xml,application/xml;q=0.9,image/webp,image/apng,*/*;q=0.8\",\n",
    "    \"Accept-Encoding\": \"gzip, deflate, br\",\n",
    "    \"Accept-Language\": \"zh-TW,zh;q=0.9,en-US;q=0.8,en;q=0.7\", \n",
    "    \"Connection\": \"keep-alive\",\n",
    "    \"Cookie\": \"packet_uid=0A58A13E-CDF5-9DCA-3624-33440A670283; PHPSESSID=5hkjjadvsb9smmqg22g6nrjhr1; user=domhotel%7CTY%7C2018-05-22+17%3A15%3A58%3B%3B%3B%3B%3B%3B\",\n",
    "    \"Host\": \"www.funtime.com.tw\",\n",
    "    \"Referer\": \"https://www.funtime.com.tw/ovehotel/oh_adv_load.php?link=/ovehotel/result_hotel.php%3Fdestination%3Dplace%253Azhongli%26resultID%3D0%26checkin%3D2018-07-07%26checkout%3D2018-07-08%26Rooms%3D1%26adults_1%3D2%26label%3Dindexsearch%26fileName%3DHotel_Kuva_Chateau&text=%E5%8F%A4%E8%8F%AF%E8%8A%B1%E5%9C%92%E9%A3%AF%E5%BA%97\",\n",
    "    \"Upgrade-Insecure-Requests\": \"1\",\n",
    "    \"User-Agent\": \"Mozilla/5.0 (Windows NT 10.0; Win64; x64) AppleWebKit/537.36 (KHTML, like Gecko) Chrome/65.0.3325.181 Safari/537.36 OPR/52.0.2871.64\"\n",
    "}''')\n",
    "resp = requests.get(url, headers=headers)"
   ]
  },
  {
   "cell_type": "code",
   "execution_count": 14,
   "metadata": {},
   "outputs": [
    {
     "data": {
      "text/plain": [
       "'https://www.funtime.com.tw/ovehotel/oh_adv_load.php?link=/ovehotel/result_hotel.php%3Fdestination%3Dplace%253Azhongli%26resultID%3D3%26checkin%3D2018-07-06%26checkout%3D2018-07-07%26Rooms%3D1%26adults_1%3D2%26label%3Dindexsearch%26lowRate%3D0%26sort%3DPopularity-desc%26pageIndex%3D0%26fileName%3DHotel_Kuva_Chateau&text=%E5%8F%A4%E8%8F%AF%E8%8A%B1%E5%9C%92%E9%A3%AF%E5%BA%97'"
      ]
     },
     "execution_count": 14,
     "metadata": {},
     "output_type": "execute_result"
    }
   ],
   "source": [
    "resp.url"
   ]
  },
  {
   "cell_type": "code",
   "execution_count": null,
   "metadata": {},
   "outputs": [],
   "source": []
  },
  {
   "cell_type": "code",
   "execution_count": 15,
   "metadata": {},
   "outputs": [],
   "source": [
    "r = requests.get('http://github.com')"
   ]
  },
  {
   "cell_type": "code",
   "execution_count": 16,
   "metadata": {},
   "outputs": [
    {
     "data": {
      "text/plain": [
       "200"
      ]
     },
     "execution_count": 16,
     "metadata": {},
     "output_type": "execute_result"
    }
   ],
   "source": [
    "r.status_code"
   ]
  },
  {
   "cell_type": "code",
   "execution_count": 17,
   "metadata": {},
   "outputs": [
    {
     "data": {
      "text/plain": [
       "[<Response [301]>]"
      ]
     },
     "execution_count": 17,
     "metadata": {},
     "output_type": "execute_result"
    }
   ],
   "source": [
    "r.history"
   ]
  },
  {
   "cell_type": "code",
   "execution_count": 18,
   "metadata": {},
   "outputs": [
    {
     "data": {
      "text/plain": [
       "'https://github.com/'"
      ]
     },
     "execution_count": 18,
     "metadata": {},
     "output_type": "execute_result"
    }
   ],
   "source": [
    "r.url"
   ]
  },
  {
   "cell_type": "markdown",
   "metadata": {},
   "source": [
    "#### 網頁無法直接跳轉\n",
    "#### 觀察發現，拼裝link後面就是跳轉的網址"
   ]
  },
  {
   "cell_type": "code",
   "execution_count": 19,
   "metadata": {},
   "outputs": [],
   "source": [
    "redirect = 'https://www.funtime.com.tw/' + re.findall(\"link = \\'/(ovehotel/.+)';\", resp.text)[0]"
   ]
  },
  {
   "cell_type": "code",
   "execution_count": 20,
   "metadata": {},
   "outputs": [
    {
     "data": {
      "text/plain": [
       "'https://www.funtime.com.tw/ovehotel/result_hotel.php?destination=place%3Azhongli&resultID=3&checkin=2018-07-06&checkout=2018-07-07&Rooms=1&adults_1=2&label=indexsearch&lowRate=0&sort=Popularity-desc&pageIndex=0&fileName=Hotel_Kuva_Chateau'"
      ]
     },
     "execution_count": 20,
     "metadata": {},
     "output_type": "execute_result"
    }
   ],
   "source": [
    "redirect"
   ]
  },
  {
   "cell_type": "code",
   "execution_count": null,
   "metadata": {},
   "outputs": [],
   "source": []
  },
  {
   "cell_type": "code",
   "execution_count": 21,
   "metadata": {},
   "outputs": [],
   "source": [
    "links = []\n",
    "for detail_link in detail_page_links:\n",
    "    resp = requests.get(detail_link, headers=headers)\n",
    "    redirect = 'https://www.funtime.com.tw/' + re.findall(\"link = \\'/(ovehotel/.+)';\", resp.text)[0]\n",
    "    links.append(redirect)"
   ]
  },
  {
   "cell_type": "code",
   "execution_count": 22,
   "metadata": {
    "scrolled": true
   },
   "outputs": [
    {
     "data": {
      "text/plain": [
       "['https://www.funtime.com.tw/ovehotel/result_hotel.php?destination=place%3Azhongli&resultID=3&checkin=2018-07-06&checkout=2018-07-07&Rooms=1&adults_1=2&label=indexsearch&lowRate=0&sort=Popularity-desc&pageIndex=0&fileName=Hotel_Kuva_Chateau',\n",
       " 'https://www.funtime.com.tw/ovehotel/result_hotel.php?destination=place%3Azhongli&resultID=3&checkin=2018-07-06&checkout=2018-07-07&Rooms=1&adults_1=2&label=indexsearch&lowRate=0&sort=Popularity-desc&pageIndex=0&fileName=Hotel_MU_Zhongli_City',\n",
       " 'https://www.funtime.com.tw/ovehotel/result_hotel.php?destination=place%3Azhongli&resultID=3&checkin=2018-07-06&checkout=2018-07-07&Rooms=1&adults_1=2&label=indexsearch&lowRate=0&sort=Popularity-desc&pageIndex=0&fileName=Central_Hotel_Zhongli_City']"
      ]
     },
     "execution_count": 22,
     "metadata": {},
     "output_type": "execute_result"
    }
   ],
   "source": [
    "links[:3]"
   ]
  },
  {
   "cell_type": "markdown",
   "metadata": {},
   "source": [
    "### 爬取跳轉後旅館資訊"
   ]
  },
  {
   "cell_type": "code",
   "execution_count": 23,
   "metadata": {},
   "outputs": [],
   "source": [
    "resp = requests.get(links[0], headers=headers)"
   ]
  },
  {
   "cell_type": "code",
   "execution_count": 30,
   "metadata": {},
   "outputs": [
    {
     "data": {
      "text/plain": [
       "'D\\'>\\r\\n\\t\\t\\t\\t\\t\\t<p data-value=\\'QUD\\'>四人房</p>\\r\\n\\t\\t\\t\\t\\t</div>\\r\\n\\t\\t\\t\\t</div>\\r\\n\\t\\t\\t\\t\\r\\n\\t\\t\\t\\t<div id=\"search_btn\" class=\"basic_search_btn color_bg\">\\r\\n\\t\\t\\t\\t\\t<span class=\"search\">\\r\\n\\t\\t\\t\\t\\t\\t立即比價\\r\\n\\t\\t\\t\\t\\t\\t<img src=\"/ovehotel/images/search/index_show_icon.png\">\\r\\n\\t\\t\\t\\t\\t</span>\\r\\n\\t\\t\\t\\t</div>\\r\\n\\t\\t\\t\\t\\r\\n\\t\\t\\t</div>\\r\\n\\t\\t\\t\\r\\n\\t\\t\\t<div style=\"display:none;\">\\r\\n\\t\\t\\t\\t<input name=\"region\" id=\"region\" size=\"1\" value=\"none\">\\r\\n\\t\\t\\t\\t<input name=\"country\" id=\"country\"  size=\"1\" value=\"none\">\\r\\n\\t\\t\\t\\t<input name=\"city\" id=\"city\"  size=\"1\" value=\"none\">\\r\\n\\t\\t\\t\\t<input name=\"departure\" id=\"date_st\" type=\"text\" value=\\'2018-07-06\\'/>\\r\\n\\t\\t\\t\\t<input name=\"backdate\" id=\"date_ed\" type=\"text\" value=\\'2018-07-07\\'/>\\r\\n\\t\\t\\t\\t\\r\\n\\t\\t\\t\\t<input type=\"hidden\" name=\"destination\" class=\"search_value\" value=\"place:Zhongli\">\\r\\n\\t\\t\\t\\t<input type=\"hidden\" name=\"label\" value=\"indexsearch\">\\r\\n\\t\\t\\t\\t<input type=\"hidden\" name=\"hotelId\" value=\"\">\\r\\n\\t\\t\\t</div>\\r\\n\\t\\t</div>\\r\\n\\t</div>\\r\\n\\t<!-- 搜尋框 ED -->\\r\\n\\r\\n\\t\\r\\n    <!-- hotel data -->\\r\\n    <a style=\"display: none;\" href=\"/ovehotel/result.php?fileName=&resultID=3&checkin=2018-07-06&checkout=2018-07-07&Rooms=1&adults_1=2&label=indexsearch&lowRate=0&sort=Popularity-desc&pageIndex=0&destination=place%3AZhongli\">\\r\\n        返回搜尋結果頁\\r\\n    </a>\\r\\n    <div class=\"hotel-data-wrapper\">\\r\\n        <div class=\"hotel-name-wrapper\">\\r\\n            <span class=\"hotel-transliteratedName\">古華花園飯店</span>\\r\\n            <span class=\"hotel-name\"></span>\\r\\n            <span class=\"hotel-rating\"><p class=\"rating star5\" title=\"5星級\"></p></span>\\r\\n        </div>\\r\\n        <p class=\"hotel-address\">\\r\\n            民權路 398 號, 中壢市, 桃園縣, 台灣        </p>\\r\\n        <div class=\"hotel-gallery\">\\r\\n                        <div class=\"hotel-gallery-image\">\\r\\n                <img src=\"https://edge.media.datahc.com/HI127189091.jpg\" class=\"thumb_0\">\\r\\n            </div>\\r\\n                        <div class=\"hotel-gallery-image\">\\r\\n                <img src=\"https://edge.media.datahc.com/HI127189092.jpg\" class=\"thumb_1\">\\r\\n            </div>\\r\\n                        <div class=\"hotel-gallery-image\">\\r\\n                <img src=\"https://edge.media.datahc.com/HI127189093.jpg\" class=\"thumb_2\">\\r\\n            </div>\\r\\n                        <div class=\"hotel-gallery-image\">\\r\\n                <img src=\"https://edge.media.datahc.com/HI127189094.jpg\" class=\"thumb_3\">\\r\\n            </div>\\r\\n                        <div class=\"hotel-gallery-image\">\\r\\n                <img src=\"https://edge.media.datahc.com/HI127189095.jpg\" class=\"thumb_4\">\\r\\n            </div>\\r\\n                        <div class=\"hotel-gallery-image\">\\r\\n                <img src=\"https://edge.media.datahc.com/HI127189096.jpg\" class=\"thumb_5\">\\r\\n            </div>\\r\\n                        <div class=\"hotel-gallery-image\">\\r\\n                <img src=\"https://edge.media.datahc.com/HI127189097.jpg\" class=\"thumb_6\">\\r\\n            </div>\\r\\n                        <div class=\"hotel-gallery-image\">\\r\\n                <img src=\"https://edge.media.datahc.com/HI127189098.jpg\" class=\"thumb_7\">\\r\\n            </div>\\r\\n                        <div class=\"hotel-gallery-image\">\\r\\n                <img src=\"https://edge.media.datahc.com/HI127189099.jpg\" class=\"thumb_8\">\\r\\n            </div>\\r\\n                        <div class=\"hotel-gallery-image\">\\r\\n                <img src=\"https://edge.media.datahc.com/HI127189100.jpg\" class=\"thumb_9\">\\r\\n            </div>\\r\\n                        <div class=\"hotel-gallery-image\">\\r\\n                <img src=\"https://edge.media.datahc.com/HI127189101.jpg\" class=\"thumb_10\">\\r\\n            </div>\\r\\n                        <div class=\"hotel-gallery-image\">\\r\\n                <img src=\"https://edge.media.datahc.com/HI127189103.jpg\" class=\"thumb_11\">\\r\\n            </div>\\r\\n                        <div class=\"hotel-gallery-image\">\\r\\n                <img src=\"https://edge.media.datahc.com/HI127189104.jpg\" class=\"thumb_12\">\\r\\n            </div>\\r\\n                        <div class=\"hotel-gallery-image\">\\r\\n                <img src=\"https://edge.media.datahc.com/HI127189105.jpg\" class=\"thumb_13\">\\r\\n            </div>\\r\\n                        <div class=\"hotel-gallery-image\">\\r\\n                <img src=\"https://edge.media.datahc.com/HI127189106.jpg\" class=\"thumb_14\">\\r\\n            </div>\\r\\n                        <div class=\"hotel-gallery-image\">\\r\\n                <img src=\"https://edge.media.datahc.com/HI127189107.jpg\" class=\"thumb_15\">\\r\\n            </div>\\r\\n                        <div class=\"hotel-gallery-image\">\\r\\n                <img src=\"https://edge.media.datahc.com/HI127189108.jpg\" class=\"thumb_16\">\\r\\n            </div>\\r\\n                        <div class=\"hotel-gallery-image\">\\r\\n                <img src=\"https://edge.media.datahc.com/HI127189109.jpg\" class=\"thumb_17\">\\r\\n            </div>\\r\\n                        <div class=\"hotel-gallery-image\">\\r\\n                <img src=\"https://edge.media.datahc.com/HI127189110.jpg\" class=\"thumb_18\">\\r\\n            </div>\\r\\n                        <div class=\"hotel-gallery-image\">\\r\\n                <img src=\"https://edge.media.datahc.com/HI127189111.jpg\" class=\"thumb_19\">\\r\\n            </div>\\r\\n                        <div class=\"hotel-gallery-image\">\\r\\n                <img src=\"https://edge.media.datahc.com/HI127189112.jpg\" class=\"thumb_20\">\\r\\n            </div>\\r\\n                        <div class=\"hotel-gallery-image\">\\r\\n                <img src=\"https://edge.media.datahc.com/HI127189113.jpg\" class=\"thumb_21\">\\r\\n            </div>\\r\\n                        <div class=\"hotel-gallery-image\">\\r\\n                <img src=\"https://edge.media.datahc.com/HI127189114.jpg\" class=\"thumb_22\">\\r\\n            </div>\\r\\n                        <div class=\"hotel-gallery-image\">\\r\\n                <img src=\"https://edge.media.datahc.com/HI127189115.jpg\" class=\"thumb_23\">\\r\\n            </div>\\r\\n                        <div class=\"hotel-gallery-image\">\\r\\n                <img src=\"https://edge.media.datahc.com/HI127189116.jpg\" class=\"thumb_24\">\\r\\n            </div>\\r\\n                        <div class=\"hotel-gallery-image\">\\r\\n                <img src=\"https://edge.media.datahc.com/HI127189117.jpg\" class=\"thumb_25\">\\r\\n            </div>\\r\\n                        <div class=\"hotel-gallery-image\">\\r\\n                <img src=\"https://edge.media.datahc.com/HI127189118.jpg\" class=\"thumb_26\">\\r\\n            </div>\\r\\n                        <div class=\"hotel-gallery-image\">\\r\\n                <img src=\"https://edge.media.datahc.com/HI127189119.jpg\" class=\"thumb_27\">\\r\\n            </div>\\r\\n                        <div class=\"hotel-gallery-image\">\\r\\n                <img src=\"https://edge.media.datahc.com/HI127189120.jpg\" class=\"thumb_28\">\\r\\n            </div>\\r\\n                        <div class=\"hotel-gallery-image\">\\r\\n                <img src=\"https://edge.media.datahc.com/HI127189121.jpg\" class=\"thumb_29\">\\r\\n            </div>\\r\\n                        <div class=\"hotel-gallery-image\">\\r\\n                <img src=\"https://edge.media.datahc.com/HI127189123.jpg\" class=\"thumb_30\">\\r\\n            </div>\\r\\n                        <div class=\"hotel-gallery-image\">\\r\\n                <img src=\"https://edge.media.datahc.com/HI127189124.jpg\" class=\"thumb_31\">\\r\\n            </div>\\r\\n                        <div class=\"hotel-gallery-image\">\\r\\n                <img src=\"https://edge.media.datahc.com/HI127189125.jpg\" class=\"thumb_32\">\\r\\n            </div>\\r\\n                    </div>\\r\\n        <div class=\"after-gallery\">\\r\\n            <a href=\"/ovehotel/oh_adv_link.php?bookUri=https%3A%2F%2Fredirect.datahc.com%2FProviderRedirect.ashx%3Fkey%3D0.21243974.-787802898.0.TWD.975463895%26source%3D202-0%26a_aid%3D6185%26brandID%3D541851%26Splash%3Dfalse%26label%3Dindexsearch&source=Trip.com\" target=\"_blank\" data-provider-name=\"Trip.com\">\\r\\n                <div class=\"hotel-rate-wrapper\">\\r\\n                    <span class=\"low-price\">雙人房<br>最低價</span>\\r\\n                    <div class=\"hotel-price\">$ 2,424</div>\\r\\n                    <div class=\"btn-view-rate\">立即查看</div>\\r\\n                    <p class=\"hotel-provider\">Trip.com</p>\\r\\n                </div> <!-- /.hotel-rate-wrapper -->\\r\\n            </a>\\r\\n            \\r\\n                        <div class=\"hotel-reviews-wrapper\">\\r\\n                <span id=\"ReviewRatingTagLine\">非常好 8.5</span>\\r\\n                <div id=\"OverviewRatingSentiments\">\\r\\n                                        <div class=\"sentiment-row\">\\r\\n                        <span class=\"positive\">☺</span>\\r\\n                        <span class=\"sentiment\">快速入住手續</span>\\r\\n                    </div>\\r\\n                                        <div class=\"sentiment-row\">\\r\\n                        <span class=\"positive\">☺</span>\\r\\n                        <span class=\"sentiment\">超精緻飲食</span>\\r\\n                    </div>\\r\\n                                        <div class=\"sentiment-row\">\\r\\n                        <span class=\"positive\">☺</span>\\r\\n                        <span class=\"sentiment\">景觀很美</span>\\r\\n                    </div>\\r\\n                                    </div>\\r\\n                <div class=\"numberOfReviews\">共有4,022個旅客評論</div>\\r\\n            </div> <!-- /.hotel-reviews-wrapper -->\\r\\n                    </div>\\r\\n        <div class=\"clear\"></div>\\r\\n\\r\\n        <div class=\"hotel-rates-wrapper\">\\r\\n            <table>\\r\\n                <thead>\\r\\n                    <tr>\\r\\n                        <th style=\"width: 1em\"></th>\\r\\n                        <th style=\"width: 12em;\">商家</th>\\r\\n                        <th>內容</th>\\r\\n                        <th style=\"width: 12em\">雙人房 房價</th>\\r\\n                        <th style=\"width: 12em\">訂購去</th>\\r\\n                    </tr>\\r\\n                </thead>\\r\\n                <tbody>\\r\\n                                    <tr class=\"less-rate-row\" data-index=\"0\"\\r\\n                    data-provider-name=\"Trip.com\">\\r\\n                        <td>\\r\\n                                                    <img src=\"https://cdn.datahc.com/Images/flags/country/tw.gif?cdn=1.0.2017.257001-C89aa53a7f92f7a2123a7ae7c91b3dc486de0987f\" title=\"繁體中文網站\">\\r\\n                                                </td>\\r\\n                        <td class=\"providerName\">\\r\\n                            <a href'"
      ]
     },
     "execution_count": 30,
     "metadata": {},
     "output_type": "execute_result"
    }
   ],
   "source": [
    "resp.text[20000:30000]"
   ]
  }
 ],
 "metadata": {
  "kernelspec": {
   "display_name": "Python 3",
   "language": "python",
   "name": "python3"
  },
  "language_info": {
   "codemirror_mode": {
    "name": "ipython",
    "version": 3
   },
   "file_extension": ".py",
   "mimetype": "text/x-python",
   "name": "python",
   "nbconvert_exporter": "python",
   "pygments_lexer": "ipython3",
   "version": "3.6.4"
  }
 },
 "nbformat": 4,
 "nbformat_minor": 2
}
