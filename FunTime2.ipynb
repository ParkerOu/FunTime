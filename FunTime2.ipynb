{
 "cells": [
  {
   "cell_type": "markdown",
   "metadata": {},
   "source": [
    "## FunTime比價網\n",
    "### 爬取網路上 最便宜的四個網路訂票網站\n",
    "### 提供 商家、內容、房價資訊，並限定有AsiaYo的住宿點"
   ]
  },
  {
   "cell_type": "code",
   "execution_count": 1,
   "metadata": {},
   "outputs": [],
   "source": [
    "import re\n",
    "import json\n",
    "import requests\n",
    "from bs4 import BeautifulSoup\n",
    "\n",
    "headers = json.loads(r'''{\n",
    "    \"Accept\": \"text/html,application/xhtml+xml,application/xml;q=0.9,image/webp,image/apng,*/*;q=0.8\",\n",
    "    \"Accept-Encoding\": \"gzip, deflate, br\",\n",
    "    \"Accept-Language\": \"zh-TW,zh;q=0.9,en-US;q=0.8,en;q=0.7\",\n",
    "    \"Cache-Control\": \"max-age=0\",\n",
    "    \"Connection\": \"keep-alive\",\n",
    "    \"Cookie\": \"packet_uid=0A58A13E-CDF5-9DCA-3624-33440A670283; PHPSESSID=jv9g81rkd92bbk5j4cqbfoeqn7; user=domhotel%7CTY%7C2018-05-23+21%3A42%3A49%3Bdomhotel%7CTY%7C2018-05-23+18%3A30%3A20%3Bdomhotel%7CYL%7C2018-05-23+18%3A28%3A14%3Bdomhotel%7CTY%7C2018-05-22+17%3A15%3A58%3B%3B%3B\",\n",
    "    \"Host\": \"www.funtime.com.tw\",\n",
    "    \"Upgrade-Insecure-Requests\": \"1\",\n",
    "    \"User-Agent\": \"Mozilla/5.0 (Windows NT 10.0; Win64; x64) AppleWebKit/537.36 (KHTML, like Gecko) Chrome/65.0.3325.181 Safari/537.36 OPR/52.0.2871.64\"\n",
    "}''')"
   ]
  },
  {
   "cell_type": "code",
   "execution_count": null,
   "metadata": {},
   "outputs": [],
   "source": []
  },
  {
   "cell_type": "code",
   "execution_count": 2,
   "metadata": {},
   "outputs": [],
   "source": [
    "# 訂房地點查宜蘭住宿，雙人房\n",
    "# 不限雙人房: roomtype_array[]=none\n",
    "url = 'https://www.funtime.com.tw/domhotel/result.php?h_name=&checkin=2018-06-27&checkout=2018-06-28&city=YL&district=&viewspot=&sk=&roomtype_array[]=DBL&breakfast_array[]=none&price_array[]=none&roomprice_min=0&roomprice_max=30000&viewpoint_array[]=none&facility_array[]=none&source[]=none&&page=1&per_page=40&sort=hot_h&search=a'"
   ]
  },
  {
   "cell_type": "code",
   "execution_count": 3,
   "metadata": {},
   "outputs": [],
   "source": [
    "resp = requests.get(url, headers=headers)\n",
    "soup = BeautifulSoup(resp.text, 'lxml')"
   ]
  },
  {
   "cell_type": "code",
   "execution_count": 4,
   "metadata": {},
   "outputs": [
    {
     "data": {
      "text/plain": [
       "983"
      ]
     },
     "execution_count": 4,
     "metadata": {},
     "output_type": "execute_result"
    }
   ],
   "source": [
    "# 獲取總筆數\n",
    "total_room = int(re.findall('住宿共 (\\d+) 家飯店', resp.text)[0])\n",
    "total_room"
   ]
  },
  {
   "cell_type": "code",
   "execution_count": 5,
   "metadata": {},
   "outputs": [
    {
     "data": {
      "text/plain": [
       "24"
      ]
     },
     "execution_count": 5,
     "metadata": {},
     "output_type": "execute_result"
    }
   ],
   "source": [
    "# 預設一頁顯示 40筆，推敲總頁數\n",
    "# 第二頁網址後面是'&page=2'\n",
    "total_page = int(total_room / 40)\n",
    "total_page"
   ]
  },
  {
   "cell_type": "markdown",
   "metadata": {},
   "source": [
    "### 過濾所需資料"
   ]
  },
  {
   "cell_type": "code",
   "execution_count": 6,
   "metadata": {},
   "outputs": [],
   "source": [
    "infos = soup.find_all(\"div\", {\"class\":\"result_center\"})"
   ]
  },
  {
   "cell_type": "code",
   "execution_count": 7,
   "metadata": {},
   "outputs": [
    {
     "data": {
      "text/plain": [
       "'Expedia'"
      ]
     },
     "execution_count": 7,
     "metadata": {},
     "output_type": "execute_result"
    }
   ],
   "source": [
    "# 商家(不一定包含最便宜商家)\n",
    "# (\\S)表示匹配任何非空白字符。等價於 [^ \\f\\n\\r\\t\\v]\n",
    "sources = soup.find_all(\"div\", {\"class\":\"price_source\"})\n",
    "source = re.findall('(\\S+)', sources[4].text)[0]\n",
    "source"
   ]
  },
  {
   "cell_type": "markdown",
   "metadata": {},
   "source": [
    "<tr>\n",
    "    <td>\n",
    "        <img src=\"img/funtime1.JPG\", width=434, height=233, style=\"float:left;\">\n",
    "    </td>\n",
    "</tr>"
   ]
  },
  {
   "cell_type": "code",
   "execution_count": 8,
   "metadata": {
    "scrolled": true
   },
   "outputs": [
    {
     "data": {
      "text/plain": [
       "'$9,329/晚'"
      ]
     },
     "execution_count": 8,
     "metadata": {},
     "output_type": "execute_result"
    }
   ],
   "source": [
    "# 價錢\n",
    "prices = soup.find_all(\"div\", {\"class\":\"price_price\"})\n",
    "price = re.findall('(\\S+)', prices[0].text)[0]\n",
    "price"
   ]
  },
  {
   "cell_type": "code",
   "execution_count": 9,
   "metadata": {},
   "outputs": [
    {
     "data": {
      "text/plain": [
       "'https://www.funtime.com.tw/domhotel/dom_detail.php?hid=domhotel_1232518577484'"
      ]
     },
     "execution_count": 9,
     "metadata": {},
     "output_type": "execute_result"
    }
   ],
   "source": [
    "# 詳細頁面連結\n",
    "links = soup.find_all(\"a\", {\"class\":\"to_detail\"})\n",
    "link = 'https://www.funtime.com.tw/domhotel/' + links[0]['href']\n",
    "link"
   ]
  },
  {
   "cell_type": "code",
   "execution_count": 10,
   "metadata": {},
   "outputs": [
    {
     "data": {
      "text/plain": [
       "'最低價：AsiaYo'"
      ]
     },
     "execution_count": 10,
     "metadata": {},
     "output_type": "execute_result"
    }
   ],
   "source": [
    "# 最便宜商家\n",
    "stores = soup.find_all(\"div\", {\"class\":\"go_source\"})\n",
    "stores[2].text"
   ]
  },
  {
   "cell_type": "markdown",
   "metadata": {},
   "source": [
    "<tr>\n",
    "    <td>\n",
    "        <img src=\"img/funtime2.JPG\", width=470, height=363, style=\"float:left;\">\n",
    "    </td>\n",
    "</tr>"
   ]
  },
  {
   "cell_type": "code",
   "execution_count": 11,
   "metadata": {},
   "outputs": [
    {
     "name": "stdout",
     "output_type": "stream",
     "text": [
      "https://www.funtime.com.tw/domhotel/dom_detail.php?hid=domhotel_1232518577484\n",
      "https://www.funtime.com.tw/domhotel/dom_detail.php?hid=domhotel_1232518577484\n",
      "https://www.funtime.com.tw/domhotel/dom_detail.php?hid=domhotel_1232518577484\n",
      "https://www.funtime.com.tw/domhotel/dom_detail.php?hid=domhotel_1232518577484\n",
      "https://www.funtime.com.tw/domhotel/dom_detail.php?hid=domhotel_1221811299437_81\n",
      "https://www.funtime.com.tw/domhotel/dom_detail.php?hid=domhotel_1221811299437_81\n",
      "https://www.funtime.com.tw/domhotel/dom_detail.php?hid=domhotel_1221811299437_81\n",
      "https://www.funtime.com.tw/domhotel/dom_detail.php?hid=domhotel_1221811299437_81\n",
      "https://www.funtime.com.tw/domhotel/dom_detail.php?hid=domhotel_1437542682817\n",
      "https://www.funtime.com.tw/domhotel/dom_detail.php?hid=domhotel_1437542682817\n",
      "https://www.funtime.com.tw/domhotel/dom_detail.php?hid=domhotel_1437542682817\n",
      "https://www.funtime.com.tw/domhotel/dom_detail.php?hid=domhotel_1437542682817\n",
      "https://www.funtime.com.tw/domhotel/dom_detail.php?hid=domhotel_1437542692355\n",
      "https://www.funtime.com.tw/domhotel/dom_detail.php?hid=domhotel_1437542692355\n",
      "https://www.funtime.com.tw/domhotel/dom_detail.php?hid=domhotel_1437542692355\n",
      "https://www.funtime.com.tw/domhotel/dom_detail.php?hid=domhotel_1437542692355\n",
      "https://www.funtime.com.tw/domhotel/dom_detail.php?hid=domhotel_1494252032123\n",
      "https://www.funtime.com.tw/domhotel/dom_detail.php?hid=domhotel_1494252032123\n",
      "https://www.funtime.com.tw/domhotel/dom_detail.php?hid=domhotel_1494252032123\n",
      "https://www.funtime.com.tw/domhotel/dom_detail.php?hid=domhotel_1494252032123\n",
      "https://www.funtime.com.tw/domhotel/dom_detail.php?hid=domhotel_1257401791015\n",
      "https://www.funtime.com.tw/domhotel/dom_detail.php?hid=domhotel_1257401791015\n",
      "https://www.funtime.com.tw/domhotel/dom_detail.php?hid=domhotel_1257401791015\n",
      "https://www.funtime.com.tw/domhotel/dom_detail.php?hid=domhotel_1257401791015\n",
      "https://www.funtime.com.tw/domhotel/dom_detail.php?hid=domhotel_1462448981282\n",
      "https://www.funtime.com.tw/domhotel/dom_detail.php?hid=domhotel_1462448981282\n",
      "https://www.funtime.com.tw/domhotel/dom_detail.php?hid=domhotel_1462448981282\n",
      "https://www.funtime.com.tw/domhotel/dom_detail.php?hid=domhotel_1462448981282\n",
      "https://www.funtime.com.tw/domhotel/dom_detail.php?hid=domhotel_1457923735118\n",
      "https://www.funtime.com.tw/domhotel/dom_detail.php?hid=domhotel_1457923735118\n",
      "https://www.funtime.com.tw/domhotel/dom_detail.php?hid=domhotel_1457923735118\n",
      "https://www.funtime.com.tw/domhotel/dom_detail.php?hid=domhotel_1457923735118\n",
      "https://www.funtime.com.tw/domhotel/dom_detail.php?hid=domhotel_1484834935576\n",
      "https://www.funtime.com.tw/domhotel/dom_detail.php?hid=domhotel_1484834935576\n",
      "https://www.funtime.com.tw/domhotel/dom_detail.php?hid=domhotel_1484834935576\n",
      "https://www.funtime.com.tw/domhotel/dom_detail.php?hid=domhotel_1484834935576\n",
      "https://www.funtime.com.tw/domhotel/dom_detail.php?hid=domhotel_1447913023374\n",
      "https://www.funtime.com.tw/domhotel/dom_detail.php?hid=domhotel_1447913023374\n",
      "https://www.funtime.com.tw/domhotel/dom_detail.php?hid=domhotel_1447913023374\n",
      "https://www.funtime.com.tw/domhotel/dom_detail.php?hid=domhotel_1447913023374\n",
      "https://www.funtime.com.tw/domhotel/dom_detail.php?hid=domhotel_1457923688348\n",
      "https://www.funtime.com.tw/domhotel/dom_detail.php?hid=domhotel_1457923688348\n",
      "https://www.funtime.com.tw/domhotel/dom_detail.php?hid=domhotel_1457923688348\n",
      "https://www.funtime.com.tw/domhotel/dom_detail.php?hid=domhotel_1457923688348\n",
      "https://www.funtime.com.tw/domhotel/dom_detail.php?hid=domhotel_1401955456468\n",
      "https://www.funtime.com.tw/domhotel/dom_detail.php?hid=domhotel_1401955456468\n",
      "https://www.funtime.com.tw/domhotel/dom_detail.php?hid=domhotel_1401955456468\n",
      "https://www.funtime.com.tw/domhotel/dom_detail.php?hid=domhotel_1401955456468\n",
      "https://www.funtime.com.tw/domhotel/dom_detail.php?hid=domhotel_1221811299437_87\n",
      "https://www.funtime.com.tw/domhotel/dom_detail.php?hid=domhotel_1221811299437_87\n",
      "https://www.funtime.com.tw/domhotel/dom_detail.php?hid=domhotel_1221811299437_87\n",
      "https://www.funtime.com.tw/domhotel/dom_detail.php?hid=domhotel_1221811299437_87\n",
      "https://www.funtime.com.tw/domhotel/dom_detail.php?hid=domhotel_1349922814875_140711\n",
      "https://www.funtime.com.tw/domhotel/dom_detail.php?hid=domhotel_1349922814875_140711\n",
      "https://www.funtime.com.tw/domhotel/dom_detail.php?hid=domhotel_1349922814875_140711\n",
      "https://www.funtime.com.tw/domhotel/dom_detail.php?hid=domhotel_1349922814875_140711\n",
      "https://www.funtime.com.tw/domhotel/dom_detail.php?hid=domhotel_1421290228304\n",
      "https://www.funtime.com.tw/domhotel/dom_detail.php?hid=domhotel_1421290228304\n",
      "https://www.funtime.com.tw/domhotel/dom_detail.php?hid=domhotel_1421290228304\n",
      "https://www.funtime.com.tw/domhotel/dom_detail.php?hid=domhotel_1421290228304\n",
      "https://www.funtime.com.tw/domhotel/dom_detail.php?hid=domhotel_1467339129108\n",
      "https://www.funtime.com.tw/domhotel/dom_detail.php?hid=domhotel_1467339129108\n",
      "https://www.funtime.com.tw/domhotel/dom_detail.php?hid=domhotel_1467339129108\n",
      "https://www.funtime.com.tw/domhotel/dom_detail.php?hid=domhotel_1467339129108\n",
      "https://www.funtime.com.tw/domhotel/dom_detail.php?hid=domhotel_1370938321556\n",
      "https://www.funtime.com.tw/domhotel/dom_detail.php?hid=domhotel_1370938321556\n",
      "https://www.funtime.com.tw/domhotel/dom_detail.php?hid=domhotel_1370938321556\n",
      "https://www.funtime.com.tw/domhotel/dom_detail.php?hid=domhotel_1370938321556\n",
      "https://www.funtime.com.tw/domhotel/dom_detail.php?hid=domhotel_1473671815273\n",
      "https://www.funtime.com.tw/domhotel/dom_detail.php?hid=domhotel_1473671815273\n",
      "https://www.funtime.com.tw/domhotel/dom_detail.php?hid=domhotel_1473671815273\n",
      "https://www.funtime.com.tw/domhotel/dom_detail.php?hid=domhotel_1473671815273\n",
      "https://www.funtime.com.tw/domhotel/dom_detail.php?hid=domhotel_1383903293765\n",
      "https://www.funtime.com.tw/domhotel/dom_detail.php?hid=domhotel_1383903293765\n",
      "https://www.funtime.com.tw/domhotel/dom_detail.php?hid=domhotel_1383903293765\n",
      "https://www.funtime.com.tw/domhotel/dom_detail.php?hid=domhotel_1383903293765\n",
      "https://www.funtime.com.tw/domhotel/dom_detail.php?hid=domhotel_1460692002437\n",
      "https://www.funtime.com.tw/domhotel/dom_detail.php?hid=domhotel_1460692002437\n",
      "https://www.funtime.com.tw/domhotel/dom_detail.php?hid=domhotel_1460692002437\n",
      "https://www.funtime.com.tw/domhotel/dom_detail.php?hid=domhotel_1460692002437\n",
      "https://www.funtime.com.tw/domhotel/dom_detail.php?hid=domhotel_1494252032903\n",
      "https://www.funtime.com.tw/domhotel/dom_detail.php?hid=domhotel_1494252032903\n",
      "https://www.funtime.com.tw/domhotel/dom_detail.php?hid=domhotel_1494252032903\n",
      "https://www.funtime.com.tw/domhotel/dom_detail.php?hid=domhotel_1494252032903\n",
      "https://www.funtime.com.tw/domhotel/dom_detail.php?hid=domhotel_1457923687457\n",
      "https://www.funtime.com.tw/domhotel/dom_detail.php?hid=domhotel_1457923687457\n",
      "https://www.funtime.com.tw/domhotel/dom_detail.php?hid=domhotel_1457923687457\n",
      "https://www.funtime.com.tw/domhotel/dom_detail.php?hid=domhotel_1457923687457\n",
      "https://www.funtime.com.tw/domhotel/dom_detail.php?hid=domhotel_1221811299453\n",
      "https://www.funtime.com.tw/domhotel/dom_detail.php?hid=domhotel_1221811299453\n",
      "https://www.funtime.com.tw/domhotel/dom_detail.php?hid=domhotel_1221811299453\n",
      "https://www.funtime.com.tw/domhotel/dom_detail.php?hid=domhotel_1221811299453\n",
      "https://www.funtime.com.tw/domhotel/dom_detail.php?hid=domhotel_1497005691324\n",
      "https://www.funtime.com.tw/domhotel/dom_detail.php?hid=domhotel_1497005691324\n",
      "https://www.funtime.com.tw/domhotel/dom_detail.php?hid=domhotel_1497005691324\n",
      "https://www.funtime.com.tw/domhotel/dom_detail.php?hid=domhotel_1497005691324\n",
      "https://www.funtime.com.tw/domhotel/dom_detail.php?hid=domhotel_1374037744828\n",
      "https://www.funtime.com.tw/domhotel/dom_detail.php?hid=domhotel_1374037744828\n",
      "https://www.funtime.com.tw/domhotel/dom_detail.php?hid=domhotel_1374037744828\n",
      "https://www.funtime.com.tw/domhotel/dom_detail.php?hid=domhotel_1374037744828\n",
      "https://www.funtime.com.tw/domhotel/dom_detail.php?hid=domhotel_1416534956136\n",
      "https://www.funtime.com.tw/domhotel/dom_detail.php?hid=domhotel_1416534956136\n",
      "https://www.funtime.com.tw/domhotel/dom_detail.php?hid=domhotel_1416534956136\n",
      "https://www.funtime.com.tw/domhotel/dom_detail.php?hid=domhotel_1416534956136\n",
      "https://www.funtime.com.tw/domhotel/dom_detail.php?hid=domhotel_1437542688392\n",
      "https://www.funtime.com.tw/domhotel/dom_detail.php?hid=domhotel_1437542688392\n",
      "https://www.funtime.com.tw/domhotel/dom_detail.php?hid=domhotel_1437542688392\n",
      "https://www.funtime.com.tw/domhotel/dom_detail.php?hid=domhotel_1437542688392\n",
      "https://www.funtime.com.tw/domhotel/dom_detail.php?hid=domhotel_1227502264531_140711\n",
      "https://www.funtime.com.tw/domhotel/dom_detail.php?hid=domhotel_1227502264531_140711\n",
      "https://www.funtime.com.tw/domhotel/dom_detail.php?hid=domhotel_1227502264531_140711\n",
      "https://www.funtime.com.tw/domhotel/dom_detail.php?hid=domhotel_1227502264531_140711\n",
      "https://www.funtime.com.tw/domhotel/dom_detail.php?hid=domhotel_1476952184628\n",
      "https://www.funtime.com.tw/domhotel/dom_detail.php?hid=domhotel_1476952184628\n",
      "https://www.funtime.com.tw/domhotel/dom_detail.php?hid=domhotel_1476952184628\n",
      "https://www.funtime.com.tw/domhotel/dom_detail.php?hid=domhotel_1476952184628\n",
      "https://www.funtime.com.tw/domhotel/dom_detail.php?hid=domhotel_1462448975413\n",
      "https://www.funtime.com.tw/domhotel/dom_detail.php?hid=domhotel_1462448975413\n",
      "https://www.funtime.com.tw/domhotel/dom_detail.php?hid=domhotel_1462448975413\n",
      "https://www.funtime.com.tw/domhotel/dom_detail.php?hid=domhotel_1462448975413\n",
      "https://www.funtime.com.tw/domhotel/dom_detail.php?hid=domhotel_1441874034745\n",
      "https://www.funtime.com.tw/domhotel/dom_detail.php?hid=domhotel_1441874034745\n",
      "https://www.funtime.com.tw/domhotel/dom_detail.php?hid=domhotel_1441874034745\n",
      "https://www.funtime.com.tw/domhotel/dom_detail.php?hid=domhotel_1441874034745\n",
      "https://www.funtime.com.tw/domhotel/dom_detail.php?hid=domhotel_1383903285921\n",
      "https://www.funtime.com.tw/domhotel/dom_detail.php?hid=domhotel_1383903285921\n",
      "https://www.funtime.com.tw/domhotel/dom_detail.php?hid=domhotel_1383903285921\n",
      "https://www.funtime.com.tw/domhotel/dom_detail.php?hid=domhotel_1383903285921\n",
      "https://www.funtime.com.tw/domhotel/dom_detail.php?hid=domhotel_1261474026640\n",
      "https://www.funtime.com.tw/domhotel/dom_detail.php?hid=domhotel_1261474026640\n",
      "https://www.funtime.com.tw/domhotel/dom_detail.php?hid=domhotel_1261474026640\n",
      "https://www.funtime.com.tw/domhotel/dom_detail.php?hid=domhotel_1261474026640\n",
      "https://www.funtime.com.tw/domhotel/dom_detail.php?hid=domhotel_1387949657625\n",
      "https://www.funtime.com.tw/domhotel/dom_detail.php?hid=domhotel_1387949657625\n",
      "https://www.funtime.com.tw/domhotel/dom_detail.php?hid=domhotel_1387949657625\n",
      "https://www.funtime.com.tw/domhotel/dom_detail.php?hid=domhotel_1387949657625\n",
      "https://www.funtime.com.tw/domhotel/dom_detail.php?hid=domhotel_1446734001674\n",
      "https://www.funtime.com.tw/domhotel/dom_detail.php?hid=domhotel_1446734001674\n",
      "https://www.funtime.com.tw/domhotel/dom_detail.php?hid=domhotel_1446734001674\n",
      "https://www.funtime.com.tw/domhotel/dom_detail.php?hid=domhotel_1446734001674\n",
      "https://www.funtime.com.tw/domhotel/dom_detail.php?hid=domhotel_1349922808609\n",
      "https://www.funtime.com.tw/domhotel/dom_detail.php?hid=domhotel_1349922808609\n",
      "https://www.funtime.com.tw/domhotel/dom_detail.php?hid=domhotel_1349922808609\n",
      "https://www.funtime.com.tw/domhotel/dom_detail.php?hid=domhotel_1349922808609\n",
      "https://www.funtime.com.tw/domhotel/dom_detail.php?hid=domhotel_1437542682927\n",
      "https://www.funtime.com.tw/domhotel/dom_detail.php?hid=domhotel_1437542682927\n",
      "https://www.funtime.com.tw/domhotel/dom_detail.php?hid=domhotel_1437542682927\n",
      "https://www.funtime.com.tw/domhotel/dom_detail.php?hid=domhotel_1437542682927\n",
      "https://www.funtime.com.tw/domhotel/dom_detail.php?hid=domhotel_1221811298906_34_140711\n",
      "https://www.funtime.com.tw/domhotel/dom_detail.php?hid=domhotel_1221811298906_34_140711\n",
      "https://www.funtime.com.tw/domhotel/dom_detail.php?hid=domhotel_1221811298906_34_140711\n",
      "https://www.funtime.com.tw/domhotel/dom_detail.php?hid=domhotel_1221811298906_34_140711\n",
      "https://www.funtime.com.tw/domhotel/dom_detail.php?hid=domhotel_1221811299484_11_140711\n",
      "https://www.funtime.com.tw/domhotel/dom_detail.php?hid=domhotel_1221811299484_11_140711\n",
      "https://www.funtime.com.tw/domhotel/dom_detail.php?hid=domhotel_1221811299484_11_140711\n",
      "https://www.funtime.com.tw/domhotel/dom_detail.php?hid=domhotel_1221811299484_11_140711\n",
      "https://www.funtime.com.tw/domhotel/dom_detail.php?hid=domhotel_1265615730921\n",
      "https://www.funtime.com.tw/domhotel/dom_detail.php?hid=domhotel_1265615730921\n",
      "https://www.funtime.com.tw/domhotel/dom_detail.php?hid=domhotel_1265615730921\n",
      "https://www.funtime.com.tw/domhotel/dom_detail.php?hid=domhotel_1265615730921\n"
     ]
    }
   ],
   "source": [
    "# 詳細頁面有四個重複\n",
    "for link in links:\n",
    "    print('https://www.funtime.com.tw/domhotel/' + link['href'])"
   ]
  },
  {
   "cell_type": "code",
   "execution_count": 12,
   "metadata": {},
   "outputs": [],
   "source": [
    "# 重新設定詳細連結\n",
    "pages = []\n",
    "for link in links:\n",
    "    pages.append('https://www.funtime.com.tw/domhotel/' + link['href'])"
   ]
  },
  {
   "cell_type": "code",
   "execution_count": 13,
   "metadata": {
    "scrolled": true
   },
   "outputs": [
    {
     "data": {
      "text/plain": [
       "['https://www.funtime.com.tw/domhotel/dom_detail.php?hid=domhotel_1473671815273',\n",
       " 'https://www.funtime.com.tw/domhotel/dom_detail.php?hid=domhotel_1349922808609',\n",
       " 'https://www.funtime.com.tw/domhotel/dom_detail.php?hid=domhotel_1446734001674',\n",
       " 'https://www.funtime.com.tw/domhotel/dom_detail.php?hid=domhotel_1457923687457',\n",
       " 'https://www.funtime.com.tw/domhotel/dom_detail.php?hid=domhotel_1374037744828']"
      ]
     },
     "execution_count": 13,
     "metadata": {},
     "output_type": "execute_result"
    }
   ],
   "source": [
    "# 利用set去除重複連結\n",
    "links = list(set(pages))\n",
    "links[:5]"
   ]
  },
  {
   "cell_type": "markdown",
   "metadata": {},
   "source": [
    "### 旅館詳細頁面\n",
    "### 爬取 商家、內容、每晚均價"
   ]
  },
  {
   "cell_type": "code",
   "execution_count": 14,
   "metadata": {},
   "outputs": [],
   "source": [
    "headers = json.loads(r'''{\n",
    "    \"Accept\": \"text/html,application/xhtml+xml,application/xml;q=0.9,image/webp,image/apng,*/*;q=0.8\",\n",
    "    \"Accept-Encoding\": \"gzip, deflate, br\",\n",
    "    \"Accept-Language\": \"zh-TW,zh;q=0.9,en-US;q=0.8,en;q=0.7\", \n",
    "    \"Connection\": \"keep-alive\",\n",
    "    \"Cookie\": \"packet_uid=0A58A13E-CDF5-9DCA-3624-33440A670283; day1remind_box_DHC3=2; PHPSESSID=spsunenkeloohmoa2vdsbd85u0; user=domhotel%7CYL%7C2018-05-24+09%3A03%3A51%3Bdomhotel%7CYL%7C2018-05-23+23%3A30%3A23%3Bdomhotel%7CYL%7C2018-05-23+22%3A27%3A42%3Bdomhotel%7CYL%7C2018-05-23+22%3A26%3A08%3Bdomhotel%7CYL%7C2018-05-23+21%3A53%3A09%3Bdomhotel%7CYL%7C2018-05-23+21%3A52%3A59%3B\",\n",
    "    \"Host\": \"www.funtime.com.tw\",\n",
    "    \"Referer\": \"https://www.funtime.com.tw/domhotel/%E5%AE%9C%E8%98%AD%E4%BD%8F%E5%AE%BF\",\n",
    "    \"Upgrade-Insecure-Requests\": \"1\",\n",
    "    \"User-Agent\": \"Mozilla/5.0 (Windows NT 10.0; Win64; x64) AppleWebKit/537.36 (KHTML, like Gecko) Chrome/65.0.3325.181 Safari/537.36 OPR/52.0.2871.64\"\n",
    "}''')\n",
    "resp = requests.get(url, headers=headers)"
   ]
  },
  {
   "cell_type": "markdown",
   "metadata": {},
   "source": [
    "### 進入詳細頁面，帶入查詢條件"
   ]
  },
  {
   "cell_type": "code",
   "execution_count": 55,
   "metadata": {},
   "outputs": [],
   "source": [
    "checkin = '2018-06-27'\n",
    "checkout = '2018-06-28'\n",
    "roomtype = 'DBL' #雙人房\n",
    "\n",
    "pages = [] #把變數pages刷新\n",
    "pages = [link + '&checkin={}&checkout={}&&&&&&roomtype_array%5B%5D={}&'.format(checkin, checkout, roomtype) for link in links]\n",
    "\n",
    "url = pages[0] #隨便挑一個測試，重點在於擷取內文頁的資訊\n",
    "resp = requests.get(url, headers=headers)\n",
    "soup = BeautifulSoup(resp.text, 'lxml')"
   ]
  },
  {
   "cell_type": "code",
   "execution_count": 56,
   "metadata": {},
   "outputs": [
    {
     "data": {
      "text/plain": [
       "['https://www.funtime.com.tw/domhotel/dom_detail.php?hid=domhotel_1473671815273&checkin=2018-06-27&checkout=2018-06-28&&&&&&roomtype_array%5B%5D=DBL&',\n",
       " 'https://www.funtime.com.tw/domhotel/dom_detail.php?hid=domhotel_1349922808609&checkin=2018-06-27&checkout=2018-06-28&&&&&&roomtype_array%5B%5D=DBL&',\n",
       " 'https://www.funtime.com.tw/domhotel/dom_detail.php?hid=domhotel_1446734001674&checkin=2018-06-27&checkout=2018-06-28&&&&&&roomtype_array%5B%5D=DBL&',\n",
       " 'https://www.funtime.com.tw/domhotel/dom_detail.php?hid=domhotel_1457923687457&checkin=2018-06-27&checkout=2018-06-28&&&&&&roomtype_array%5B%5D=DBL&',\n",
       " 'https://www.funtime.com.tw/domhotel/dom_detail.php?hid=domhotel_1374037744828&checkin=2018-06-27&checkout=2018-06-28&&&&&&roomtype_array%5B%5D=DBL&']"
      ]
     },
     "execution_count": 56,
     "metadata": {},
     "output_type": "execute_result"
    }
   ],
   "source": [
    "pages[:5]"
   ]
  },
  {
   "cell_type": "markdown",
   "metadata": {},
   "source": [
    "### 目前url住宿點房價資訊\n",
    "<tr>\n",
    "    <td>\n",
    "        <img src=\"img/funtime3.JPG\", width=70%, style=\"float:left;\">\n",
    "    </td>\n",
    "</tr>"
   ]
  },
  {
   "cell_type": "code",
   "execution_count": 57,
   "metadata": {},
   "outputs": [],
   "source": [
    "# 商家、房型、內容、早餐...資訊\n",
    "hotelinfos = soup.find_all(\"div\", {\"class\":\"result_table\"})[0]"
   ]
  },
  {
   "cell_type": "code",
   "execution_count": 63,
   "metadata": {},
   "outputs": [
    {
     "data": {
      "text/plain": [
       "'Booking'"
      ]
     },
     "execution_count": 63,
     "metadata": {},
     "output_type": "execute_result"
    }
   ],
   "source": [
    "# 商家\n",
    "cheapstores = hotelinfos.find_all(\"div\", {\"class\":\"result_source\"})\n",
    "cheapstore = re.findall('(\\S+)', cheapstores[1].text)[0]\n",
    "cheapstore"
   ]
  },
  {
   "cell_type": "code",
   "execution_count": 71,
   "metadata": {},
   "outputs": [
    {
     "data": {
      "text/plain": [
       "'雙人間 - 不退款'"
      ]
     },
     "execution_count": 71,
     "metadata": {},
     "output_type": "execute_result"
    }
   ],
   "source": [
    "# 內容\n",
    "cheapcontents = hotelinfos.find_all(\"div\", {\"class\":\"result_type\"})\n",
    "cheapcontent = cheapcontents[1].text.strip()\n",
    "cheapcontent"
   ]
  },
  {
   "cell_type": "code",
   "execution_count": 80,
   "metadata": {},
   "outputs": [
    {
     "data": {
      "text/plain": [
       "'$1,955'"
      ]
     },
     "execution_count": 80,
     "metadata": {},
     "output_type": "execute_result"
    }
   ],
   "source": [
    "# 定價\n",
    "cheapprices = hotelinfos.find_all(\"div\", {\"class\":\"result_price\"})\n",
    "cheapprice = cheapprices[1].text.strip()\n",
    "cheapprice"
   ]
  },
  {
   "cell_type": "markdown",
   "metadata": {},
   "source": [
    "### 變換url\n",
    "### 目前url住宿點房價資訊\n",
    "<tr>\n",
    "    <td>\n",
    "        <img src=\"img/funtime4.JPG\", width=70%, style=\"float:left;\">\n",
    "    </td>\n",
    "</tr>"
   ]
  },
  {
   "cell_type": "code",
   "execution_count": 84,
   "metadata": {},
   "outputs": [],
   "source": [
    "url = pages[2] \n",
    "resp = requests.get(url, headers=headers)\n",
    "soup = BeautifulSoup(resp.text, 'lxml')\n",
    "# 商家、房型、內容、早餐...資訊\n",
    "hotelinfos = soup.find_all(\"div\", {\"class\":\"result_table\"})[0]"
   ]
  },
  {
   "cell_type": "code",
   "execution_count": 90,
   "metadata": {},
   "outputs": [],
   "source": [
    "# 商家\n",
    "cheapstores = hotelinfos.find_all(\"div\", {\"class\":\"result_source\"})"
   ]
  },
  {
   "cell_type": "code",
   "execution_count": 91,
   "metadata": {},
   "outputs": [
    {
     "data": {
      "text/plain": [
       "['商家',\n",
       " 'agoda',\n",
       " '',\n",
       " 'Expedia',\n",
       " '',\n",
       " 'Booking',\n",
       " '',\n",
       " 'Hotels',\n",
       " '',\n",
       " '(adsbygoogle = window.adsbygoogle || []).push({});',\n",
       " '雄獅',\n",
       " '']"
      ]
     },
     "execution_count": 91,
     "metadata": {},
     "output_type": "execute_result"
    }
   ],
   "source": [
    "cheapstore = [store.text.strip() for store in cheapstores]\n",
    "cheapstore"
   ]
  },
  {
   "cell_type": "markdown",
   "metadata": {},
   "source": [
    "#### 過濾不必要的，取前四名"
   ]
  },
  {
   "cell_type": "code",
   "execution_count": 92,
   "metadata": {},
   "outputs": [
    {
     "data": {
      "text/plain": [
       "['agoda', 'Expedia', 'Booking', 'Hotels']"
      ]
     },
     "execution_count": 92,
     "metadata": {},
     "output_type": "execute_result"
    }
   ],
   "source": [
    "cheapstores = [cheapstore[1], cheapstore[3], cheapstore[5], cheapstore[7]]\n",
    "cheapstores"
   ]
  },
  {
   "cell_type": "code",
   "execution_count": 93,
   "metadata": {},
   "outputs": [],
   "source": [
    "# 內容\n",
    "cheapcontents = hotelinfos.find_all(\"div\", {\"class\":\"result_type\"})"
   ]
  },
  {
   "cell_type": "code",
   "execution_count": 96,
   "metadata": {},
   "outputs": [
    {
     "data": {
      "text/plain": [
       "['高級雙人房(Superior Double)',\n",
       " '高級雙人房, 1 張雙人床或 2 張單人床',\n",
       " '標准雙人間 - 免費取消',\n",
       " '高級雙人房, 1 張雙人床或 2 張單人床 (免費早餐, 免費停車, 免費無線上網)(可退費-可  ...']"
      ]
     },
     "execution_count": 96,
     "metadata": {},
     "output_type": "execute_result"
    }
   ],
   "source": [
    "cheapcontent = [content.text.strip() for content in cheapcontents]\n",
    "cheapcontents = [cheapcontent[1], cheapcontent[3], cheapcontent[5], cheapcontent[7]]\n",
    "cheapcontents"
   ]
  },
  {
   "cell_type": "code",
   "execution_count": 97,
   "metadata": {},
   "outputs": [
    {
     "data": {
      "text/plain": [
       "['$2,629', '$2,679', '$2,680', '$2,680']"
      ]
     },
     "execution_count": 97,
     "metadata": {},
     "output_type": "execute_result"
    }
   ],
   "source": [
    "# 定價\n",
    "cheapprices = hotelinfos.find_all(\"div\", {\"class\":\"result_price\"})\n",
    "cheapprice = [price.text.strip() for price in cheapprices]\n",
    "cheapprices = [cheapprice[1], cheapprice[3], cheapprice[5], cheapprice[7]]\n",
    "cheapprices"
   ]
  }
 ],
 "metadata": {
  "kernelspec": {
   "display_name": "Python 3",
   "language": "python",
   "name": "python3"
  },
  "language_info": {
   "codemirror_mode": {
    "name": "ipython",
    "version": 3
   },
   "file_extension": ".py",
   "mimetype": "text/x-python",
   "name": "python",
   "nbconvert_exporter": "python",
   "pygments_lexer": "ipython3",
   "version": "3.6.4"
  }
 },
 "nbformat": 4,
 "nbformat_minor": 2
}
