{
 "cells": [
  {
   "cell_type": "markdown",
   "metadata": {},
   "source": [
    "## FunTime比價網\n",
    "### 爬取網路上 最便宜的四個網路訂票網站\n",
    "### 提供 商家、內容、房價資訊，並限定有AsiaYo的住宿點"
   ]
  },
  {
   "cell_type": "code",
   "execution_count": 1,
   "metadata": {},
   "outputs": [],
   "source": [
    "import re\n",
    "import json\n",
    "import requests\n",
    "from bs4 import BeautifulSoup\n",
    "\n",
    "headers = json.loads(r'''{\n",
    "    \"Accept\": \"text/html,application/xhtml+xml,application/xml;q=0.9,image/webp,image/apng,*/*;q=0.8\",\n",
    "    \"Accept-Encoding\": \"gzip, deflate, br\",\n",
    "    \"Accept-Language\": \"zh-TW,zh;q=0.9,en-US;q=0.8,en;q=0.7\",\n",
    "    \"Cache-Control\": \"max-age=0\",\n",
    "    \"Connection\": \"keep-alive\",\n",
    "    \"Cookie\": \"packet_uid=0A58A13E-CDF5-9DCA-3624-33440A670283; PHPSESSID=jv9g81rkd92bbk5j4cqbfoeqn7; user=domhotel%7CTY%7C2018-05-23+21%3A42%3A49%3Bdomhotel%7CTY%7C2018-05-23+18%3A30%3A20%3Bdomhotel%7CYL%7C2018-05-23+18%3A28%3A14%3Bdomhotel%7CTY%7C2018-05-22+17%3A15%3A58%3B%3B%3B\",\n",
    "    \"Host\": \"www.funtime.com.tw\",\n",
    "    \"Upgrade-Insecure-Requests\": \"1\",\n",
    "    \"User-Agent\": \"Mozilla/5.0 (Windows NT 10.0; Win64; x64) AppleWebKit/537.36 (KHTML, like Gecko) Chrome/65.0.3325.181 Safari/537.36 OPR/52.0.2871.64\"\n",
    "}''')"
   ]
  },
  {
   "cell_type": "code",
   "execution_count": 2,
   "metadata": {},
   "outputs": [],
   "source": [
    "# 訂房地點查宜蘭住宿，雙人房\n",
    "# 不限雙人房: roomtype_array[]=none\n",
    "url = 'https://www.funtime.com.tw/domhotel/result.php?h_name=&checkin=2018-06-27&checkout=2018-06-28&city=YL&district=&viewspot=&sk=&roomtype_array[]=DBL&breakfast_array[]=none&price_array[]=none&roomprice_min=0&roomprice_max=30000&viewpoint_array[]=none&facility_array[]=none&source[]=none&&page=1&per_page=40&sort=hot_h&search=a'\n",
    "resp = requests.get(url, headers=headers)\n",
    "soup = BeautifulSoup(resp.text, 'lxml')"
   ]
  },
  {
   "cell_type": "code",
   "execution_count": 3,
   "metadata": {},
   "outputs": [
    {
     "data": {
      "text/plain": [
       "983"
      ]
     },
     "execution_count": 3,
     "metadata": {},
     "output_type": "execute_result"
    }
   ],
   "source": [
    "# 獲取總筆數\n",
    "total_room = int(re.findall('住宿共 (\\d+) 家飯店', resp.text)[0])\n",
    "total_room"
   ]
  },
  {
   "cell_type": "code",
   "execution_count": 4,
   "metadata": {},
   "outputs": [
    {
     "data": {
      "text/plain": [
       "24"
      ]
     },
     "execution_count": 4,
     "metadata": {},
     "output_type": "execute_result"
    }
   ],
   "source": [
    "# 預設一頁顯示 40筆，推敲總頁數\n",
    "# 第二頁網址後面是'&page=2'\n",
    "total_page = int(total_room / 40)\n",
    "total_page"
   ]
  },
  {
   "cell_type": "code",
   "execution_count": 6,
   "metadata": {},
   "outputs": [],
   "source": [
    "'''\n",
    "unfinished\n",
    "'''\n",
    "\n",
    "## 爬蟲使用方法\n",
    "for num in list(range(1, 25)):\n",
    "    url = 'https://www.funtime.com.tw/domhotel/result.php?h_name=&checkin=2018-06-27&checkout=2018-06-28&city=YL&district=&viewspot=&sk=&roomtype_array[]=DBL&breakfast_array[]=none&price_array[]=none&roomprice_min=0&roomprice_max=30000&viewpoint_array[]=none&facility_array[]=none&source[]=none&&page={}&per_page=40&sort=hot_h&search=a'.format(num)\n",
    "    ## 接下來去蟲..."
   ]
  },
  {
   "cell_type": "markdown",
   "metadata": {},
   "source": [
    "### 過濾所需資料"
   ]
  },
  {
   "cell_type": "markdown",
   "metadata": {},
   "source": [
    "![](img/funtime1.JPG)"
   ]
  },
  {
   "cell_type": "code",
   "execution_count": 5,
   "metadata": {},
   "outputs": [],
   "source": [
    "infos = soup.find_all(\"div\", {\"class\":\"result_center\"})"
   ]
  },
  {
   "cell_type": "code",
   "execution_count": 6,
   "metadata": {},
   "outputs": [
    {
     "data": {
      "text/plain": [
       "['Trip', '-', '-', 'agoda', 'Expedia', 'Booking', 'agoda', 'Booking', 'Trip']"
      ]
     },
     "execution_count": 6,
     "metadata": {},
     "output_type": "execute_result"
    }
   ],
   "source": [
    "# 商家\n",
    "sources = soup.find_all(\"div\", {\"class\":\"price_source\"})\n",
    "source = [s.text.strip() for s in sources]\n",
    "source[:9]"
   ]
  },
  {
   "cell_type": "code",
   "execution_count": 7,
   "metadata": {},
   "outputs": [
    {
     "data": {
      "text/plain": [
       "['https://www.funtime.com.tw/domhotel/dom_detail.php?hid=domhotel_1232518577484',\n",
       " 'https://www.funtime.com.tw/domhotel/dom_detail.php?hid=domhotel_1232518577484',\n",
       " 'https://www.funtime.com.tw/domhotel/dom_detail.php?hid=domhotel_1232518577484',\n",
       " 'https://www.funtime.com.tw/domhotel/dom_detail.php?hid=domhotel_1232518577484',\n",
       " 'https://www.funtime.com.tw/domhotel/dom_detail.php?hid=domhotel_1221811299437_81',\n",
       " 'https://www.funtime.com.tw/domhotel/dom_detail.php?hid=domhotel_1221811299437_81',\n",
       " 'https://www.funtime.com.tw/domhotel/dom_detail.php?hid=domhotel_1221811299437_81',\n",
       " 'https://www.funtime.com.tw/domhotel/dom_detail.php?hid=domhotel_1221811299437_81',\n",
       " 'https://www.funtime.com.tw/domhotel/dom_detail.php?hid=domhotel_1437542682817']"
      ]
     },
     "execution_count": 7,
     "metadata": {},
     "output_type": "execute_result"
    }
   ],
   "source": [
    "# 詳細頁面連結\n",
    "links = soup.find_all(\"a\", {\"class\":\"to_detail\"})\n",
    "link = ['https://www.funtime.com.tw/domhotel/' + l['href'] for l in links]\n",
    "link[:9]"
   ]
  },
  {
   "cell_type": "code",
   "execution_count": 8,
   "metadata": {},
   "outputs": [
    {
     "data": {
      "text/plain": [
       "['https://www.funtime.com.tw/domhotel/dom_detail.php?hid=domhotel_1232518577484',\n",
       " 'https://www.funtime.com.tw/domhotel/dom_detail.php?hid=domhotel_1221811299437_81',\n",
       " 'https://www.funtime.com.tw/domhotel/dom_detail.php?hid=domhotel_1437542682817']"
      ]
     },
     "execution_count": 8,
     "metadata": {},
     "output_type": "execute_result"
    }
   ],
   "source": [
    "# 詳細頁面有四個重複\n",
    "# 重新設定詳細連結\n",
    "# 為了保持順序，不能用set去除重複連結\n",
    "roomlink = []\n",
    "for l in link[::4]:\n",
    "    roomlink.append(l)\n",
    "roomlink[:3]"
   ]
  },
  {
   "cell_type": "markdown",
   "metadata": {},
   "source": [
    "### 筆記: [改變讀取順序](https://blog.csdn.net/iflysoft/article/details/9013315)"
   ]
  },
  {
   "cell_type": "markdown",
   "metadata": {},
   "source": [
    "<tr>\n",
    "    <td>\n",
    "        <img src=\"img/funtime2.JPG\", width=470, height=363, style=\"float:left;\">\n",
    "    </td>\n",
    "</tr>"
   ]
  },
  {
   "cell_type": "code",
   "execution_count": 9,
   "metadata": {},
   "outputs": [
    {
     "data": {
      "text/plain": [
       "['雄獅',\n",
       " '雄獅',\n",
       " 'AsiaYo',\n",
       " 'Hotels',\n",
       " 'Booking',\n",
       " 'agoda',\n",
       " 'agoda',\n",
       " 'Trip',\n",
       " 'Booking']"
      ]
     },
     "execution_count": 9,
     "metadata": {},
     "output_type": "execute_result"
    }
   ],
   "source": [
    "# 最便宜商家\n",
    "stores = soup.find_all(\"div\", {\"class\":\"go_source\"})\n",
    "store = [s.text.lstrip('最低價：').strip() for s in stores]\n",
    "store[:9]"
   ]
  },
  {
   "cell_type": "markdown",
   "metadata": {},
   "source": [
    "### 筆記: [刪除特定字串](http://python3-cookbook-personal.readthedocs.io/zh_CN/latest/c02/p11_strip_unwanted_characters.html)"
   ]
  },
  {
   "cell_type": "markdown",
   "metadata": {},
   "source": [
    "## 過濾非AsiaYo的連結"
   ]
  },
  {
   "cell_type": "code",
   "execution_count": 10,
   "metadata": {},
   "outputs": [],
   "source": [
    "i = 0 # 陣列第幾個位置\n",
    "asiayoLink = [] # 包含AsiaYo的連結\n",
    "for s in source:\n",
    "    if s == 'AsiaYo':\n",
    "        asiayoLink.append(roomlink[int(i/3)]) # 3個一循環\n",
    "    i += 1"
   ]
  },
  {
   "cell_type": "code",
   "execution_count": 11,
   "metadata": {
    "scrolled": true
   },
   "outputs": [
    {
     "data": {
      "text/plain": [
       "['https://www.funtime.com.tw/domhotel/dom_detail.php?hid=domhotel_1257401791015',\n",
       " 'https://www.funtime.com.tw/domhotel/dom_detail.php?hid=domhotel_1349922814875_140711',\n",
       " 'https://www.funtime.com.tw/domhotel/dom_detail.php?hid=domhotel_1467339129108',\n",
       " 'https://www.funtime.com.tw/domhotel/dom_detail.php?hid=domhotel_1460692002437',\n",
       " 'https://www.funtime.com.tw/domhotel/dom_detail.php?hid=domhotel_1494252032903',\n",
       " 'https://www.funtime.com.tw/domhotel/dom_detail.php?hid=domhotel_1441874034745',\n",
       " 'https://www.funtime.com.tw/domhotel/dom_detail.php?hid=domhotel_1349922808609']"
      ]
     },
     "execution_count": 11,
     "metadata": {},
     "output_type": "execute_result"
    }
   ],
   "source": [
    "asiayoLink"
   ]
  },
  {
   "cell_type": "code",
   "execution_count": 12,
   "metadata": {},
   "outputs": [],
   "source": [
    "i = 0 # 陣列第幾個位置\n",
    "for s in store:\n",
    "    if s == 'AsiaYo':\n",
    "        asiayoLink.append(roomlink[i])\n",
    "    i += 1"
   ]
  },
  {
   "cell_type": "code",
   "execution_count": 13,
   "metadata": {},
   "outputs": [
    {
     "data": {
      "text/plain": [
       "['https://www.funtime.com.tw/domhotel/dom_detail.php?hid=domhotel_1257401791015',\n",
       " 'https://www.funtime.com.tw/domhotel/dom_detail.php?hid=domhotel_1349922814875_140711',\n",
       " 'https://www.funtime.com.tw/domhotel/dom_detail.php?hid=domhotel_1467339129108',\n",
       " 'https://www.funtime.com.tw/domhotel/dom_detail.php?hid=domhotel_1460692002437',\n",
       " 'https://www.funtime.com.tw/domhotel/dom_detail.php?hid=domhotel_1494252032903',\n",
       " 'https://www.funtime.com.tw/domhotel/dom_detail.php?hid=domhotel_1441874034745',\n",
       " 'https://www.funtime.com.tw/domhotel/dom_detail.php?hid=domhotel_1349922808609',\n",
       " 'https://www.funtime.com.tw/domhotel/dom_detail.php?hid=domhotel_1437542682817',\n",
       " 'https://www.funtime.com.tw/domhotel/dom_detail.php?hid=domhotel_1460692002437']"
      ]
     },
     "execution_count": 13,
     "metadata": {},
     "output_type": "execute_result"
    }
   ],
   "source": [
    "asiayoLink"
   ]
  },
  {
   "cell_type": "markdown",
   "metadata": {},
   "source": [
    "## 整理成function"
   ]
  },
  {
   "cell_type": "code",
   "execution_count": 14,
   "metadata": {},
   "outputs": [],
   "source": [
    "def searchAsiaYo(soup):\n",
    "    infos = soup.find_all(\"div\", {\"class\":\"result_center\"})\n",
    "    # 商家\n",
    "    sources = soup.find_all(\"div\", {\"class\":\"price_source\"})\n",
    "    source = [s.text.strip() for s in sources]\n",
    "    # 最便宜商家\n",
    "    stores = soup.find_all(\"div\", {\"class\":\"go_source\"})\n",
    "    store = [s.text.lstrip('最低價：').strip() for s in stores]\n",
    "    # 詳細頁面連結\n",
    "    links = soup.find_all(\"a\", {\"class\":\"to_detail\"})\n",
    "    link = ['https://www.funtime.com.tw/domhotel/' + l['href'] for l in links]\n",
    "    # 重新設定詳細連結\n",
    "    roomlink = []\n",
    "    for l in link[::4]:\n",
    "        roomlink.append(l)\n",
    "    \n",
    "    # 過濾非AsiaYo的連結\n",
    "    i = 0 # 陣列第幾個位置\n",
    "    asiayoLink = [] # 包含AsiaYo的連結\n",
    "    for s in source:\n",
    "        if s == 'AsiaYo':\n",
    "            asiayoLink.append(roomlink[int(i/3)])\n",
    "        i += 1\n",
    "    i = 0 # 陣列第幾個位置\n",
    "    for s in store:\n",
    "        if s == 'AsiaYo':\n",
    "            asiayoLink.append(roomlink[i])\n",
    "        i += 1\n",
    "    \n",
    "    return asiayoLink"
   ]
  },
  {
   "cell_type": "code",
   "execution_count": 15,
   "metadata": {},
   "outputs": [
    {
     "data": {
      "text/plain": [
       "['https://www.funtime.com.tw/domhotel/dom_detail.php?hid=domhotel_1257401791015',\n",
       " 'https://www.funtime.com.tw/domhotel/dom_detail.php?hid=domhotel_1349922814875_140711',\n",
       " 'https://www.funtime.com.tw/domhotel/dom_detail.php?hid=domhotel_1467339129108',\n",
       " 'https://www.funtime.com.tw/domhotel/dom_detail.php?hid=domhotel_1460692002437',\n",
       " 'https://www.funtime.com.tw/domhotel/dom_detail.php?hid=domhotel_1494252032903',\n",
       " 'https://www.funtime.com.tw/domhotel/dom_detail.php?hid=domhotel_1441874034745',\n",
       " 'https://www.funtime.com.tw/domhotel/dom_detail.php?hid=domhotel_1349922808609',\n",
       " 'https://www.funtime.com.tw/domhotel/dom_detail.php?hid=domhotel_1437542682817',\n",
       " 'https://www.funtime.com.tw/domhotel/dom_detail.php?hid=domhotel_1460692002437']"
      ]
     },
     "execution_count": 15,
     "metadata": {},
     "output_type": "execute_result"
    }
   ],
   "source": [
    "searchAsiaYo(soup)"
   ]
  },
  {
   "cell_type": "markdown",
   "metadata": {},
   "source": [
    "### 旅館詳細頁面\n",
    "### 爬取 商家、內容、每晚均價"
   ]
  },
  {
   "cell_type": "code",
   "execution_count": 16,
   "metadata": {},
   "outputs": [],
   "source": [
    "headers = json.loads(r'''{\n",
    "    \"Accept\": \"text/html,application/xhtml+xml,application/xml;q=0.9,image/webp,image/apng,*/*;q=0.8\",\n",
    "    \"Accept-Encoding\": \"gzip, deflate, br\",\n",
    "    \"Accept-Language\": \"zh-TW,zh;q=0.9,en-US;q=0.8,en;q=0.7\", \n",
    "    \"Connection\": \"keep-alive\",\n",
    "    \"Cookie\": \"packet_uid=0A58A13E-CDF5-9DCA-3624-33440A670283; day1remind_box_DHC3=2; PHPSESSID=spsunenkeloohmoa2vdsbd85u0; user=domhotel%7CYL%7C2018-05-24+09%3A03%3A51%3Bdomhotel%7CYL%7C2018-05-23+23%3A30%3A23%3Bdomhotel%7CYL%7C2018-05-23+22%3A27%3A42%3Bdomhotel%7CYL%7C2018-05-23+22%3A26%3A08%3Bdomhotel%7CYL%7C2018-05-23+21%3A53%3A09%3Bdomhotel%7CYL%7C2018-05-23+21%3A52%3A59%3B\",\n",
    "    \"Host\": \"www.funtime.com.tw\",\n",
    "    \"Referer\": \"https://www.funtime.com.tw/domhotel/%E5%AE%9C%E8%98%AD%E4%BD%8F%E5%AE%BF\",\n",
    "    \"Upgrade-Insecure-Requests\": \"1\",\n",
    "    \"User-Agent\": \"Mozilla/5.0 (Windows NT 10.0; Win64; x64) AppleWebKit/537.36 (KHTML, like Gecko) Chrome/65.0.3325.181 Safari/537.36 OPR/52.0.2871.64\"\n",
    "}''')"
   ]
  },
  {
   "cell_type": "markdown",
   "metadata": {},
   "source": [
    "### 進入詳細頁面，帶入查詢條件"
   ]
  },
  {
   "cell_type": "code",
   "execution_count": 17,
   "metadata": {},
   "outputs": [],
   "source": [
    "checkin = '2018-06-27'\n",
    "checkout = '2018-06-28'\n",
    "roomtype = 'DBL' #雙人房\n",
    "\n",
    "pages = [] #把變數pages刷新\n",
    "pages = [link + '&checkin={}&checkout={}&&&&&&roomtype_array%5B%5D={}&'.format(checkin, checkout, roomtype) for link in asiayoLink]\n",
    "\n",
    "url = pages[0] #隨便挑一個測試，重點在於擷取內文頁的資訊\n",
    "resp = requests.get(url, headers=headers)\n",
    "soup = BeautifulSoup(resp.text, 'lxml')"
   ]
  },
  {
   "cell_type": "code",
   "execution_count": 18,
   "metadata": {},
   "outputs": [],
   "source": [
    "# 商家、房型、內容、早餐...資訊\n",
    "hotelinfos = soup.find_all(\"div\", {\"class\":\"result_table\"})[0]"
   ]
  },
  {
   "cell_type": "markdown",
   "metadata": {},
   "source": [
    "#### 過濾不必要的，取前四名"
   ]
  },
  {
   "cell_type": "code",
   "execution_count": 19,
   "metadata": {},
   "outputs": [
    {
     "data": {
      "text/plain": [
       "['agoda', 'agoda', 'Expedia', 'Booking']"
      ]
     },
     "execution_count": 19,
     "metadata": {},
     "output_type": "execute_result"
    }
   ],
   "source": [
    "# 商家\n",
    "cheapstores = hotelinfos.find_all(\"div\", {\"class\":\"result_source\"})\n",
    "cheapstore = [store.text.strip() for store in cheapstores]\n",
    "cheapstores = [cheapstore[1], cheapstore[3], cheapstore[5], cheapstore[7]]\n",
    "cheapstores"
   ]
  },
  {
   "cell_type": "code",
   "execution_count": 20,
   "metadata": {},
   "outputs": [
    {
     "data": {
      "text/plain": [
       "['標準房(2張單人床)(Standard Two Single Beds)',\n",
       " '標準房(2張單人床)(Standard Two Single Beds) (含早餐與晚餐)',\n",
       " '標準雙床房',\n",
       " '雙床間 - 帶陽台 - 免費取消']"
      ]
     },
     "execution_count": 20,
     "metadata": {},
     "output_type": "execute_result"
    }
   ],
   "source": [
    "# 內容\n",
    "cheapcontents = hotelinfos.find_all(\"div\", {\"class\":\"result_type\"})\n",
    "cheapcontent = [content.text.strip() for content in cheapcontents]\n",
    "cheapcontents = [cheapcontent[1], cheapcontent[3], cheapcontent[5], cheapcontent[7]]\n",
    "cheapcontents"
   ]
  },
  {
   "cell_type": "code",
   "execution_count": 21,
   "metadata": {
    "scrolled": true
   },
   "outputs": [
    {
     "data": {
      "text/plain": [
       "['$3,211', '$3,617', '$3,639', '$3,640']"
      ]
     },
     "execution_count": 21,
     "metadata": {},
     "output_type": "execute_result"
    }
   ],
   "source": [
    "# 定價\n",
    "cheapprices = hotelinfos.find_all(\"div\", {\"class\":\"result_price\"})\n",
    "cheapprice = [price.text.strip() for price in cheapprices]\n",
    "cheapprices = [cheapprice[1], cheapprice[3], cheapprice[5], cheapprice[7]]\n",
    "cheapprices"
   ]
  },
  {
   "cell_type": "markdown",
   "metadata": {},
   "source": [
    "### But 當連結內非擁有四個商家會出錯!!!\n",
    "### 需要更改程式碼"
   ]
  },
  {
   "cell_type": "code",
   "execution_count": 22,
   "metadata": {},
   "outputs": [],
   "source": [
    "# 選了只有一個商家的飯店測試\n",
    "url = 'https://www.funtime.com.tw/domhotel/dom_detail.php?hid=domhotel_1473671815273&checkin=2018-06-27&checkout=2018-06-28&&&&&&roomtype_array%5B%5D=DBL&'\n",
    "resp = requests.get(url, headers=headers)\n",
    "soup = BeautifulSoup(resp.text, 'lxml')\n",
    "hotelinfos = soup.find_all(\"div\", {\"class\":\"result_table\"})[0]"
   ]
  },
  {
   "cell_type": "code",
   "execution_count": 23,
   "metadata": {},
   "outputs": [
    {
     "data": {
      "text/plain": [
       "4"
      ]
     },
     "execution_count": 23,
     "metadata": {},
     "output_type": "execute_result"
    }
   ],
   "source": [
    "cheapstores = hotelinfos.find_all(\"div\", {\"class\":\"result_source\"})\n",
    "cheapstore = [store.text.strip() for store in cheapstores]\n",
    "len(cheapstore)"
   ]
  },
  {
   "cell_type": "code",
   "execution_count": 24,
   "metadata": {},
   "outputs": [],
   "source": [
    "# 選了只有兩個商家的飯店測試\n",
    "url = 'https://www.funtime.com.tw/domhotel/dom_detail.php?hid=domhotel_1349922808609&checkin=2018-06-27&checkout=2018-06-28&&&&&&roomtype_array%5B%5D=DBL&'\n",
    "resp = requests.get(url, headers=headers)\n",
    "soup = BeautifulSoup(resp.text, 'lxml')\n",
    "hotelinfos = soup.find_all(\"div\", {\"class\":\"result_table\"})[0]"
   ]
  },
  {
   "cell_type": "code",
   "execution_count": 25,
   "metadata": {
    "scrolled": true
   },
   "outputs": [
    {
     "data": {
      "text/plain": [
       "6"
      ]
     },
     "execution_count": 25,
     "metadata": {},
     "output_type": "execute_result"
    }
   ],
   "source": [
    "cheapstores = hotelinfos.find_all(\"div\", {\"class\":\"result_source\"})\n",
    "cheapstore = [store.text.strip() for store in cheapstores]\n",
    "len(cheapstore)"
   ]
  },
  {
   "cell_type": "markdown",
   "metadata": {},
   "source": [
    "#### 觀察當只有一個飯店時，cheapstore陣列長度為4\n",
    "#### 當兩個飯店時，cheapstore陣列長度為6"
   ]
  },
  {
   "cell_type": "markdown",
   "metadata": {},
   "source": [
    "## 整理成function"
   ]
  },
  {
   "cell_type": "code",
   "execution_count": 26,
   "metadata": {},
   "outputs": [],
   "source": [
    "# 透過前面的function取得所有連結\n",
    "url = 'https://www.funtime.com.tw/domhotel/result.php?h_name=&checkin=2018-06-27&checkout=2018-06-28&city=YL&district=&viewspot=&sk=&roomtype_array[]=DBL&breakfast_array[]=none&price_array[]=none&roomprice_min=0&roomprice_max=30000&viewpoint_array[]=none&facility_array[]=none&source[]=none&&page=1&per_page=40&sort=hot_h&search=a'\n",
    "resp = requests.get(url, headers=headers)\n",
    "soup = BeautifulSoup(resp.text, 'lxml')\n",
    "asiayoLink = searchAsiaYo(soup)"
   ]
  },
  {
   "cell_type": "code",
   "execution_count": 31,
   "metadata": {},
   "outputs": [
    {
     "data": {
      "text/plain": [
       "['https://www.funtime.com.tw/domhotel/dom_detail.php?hid=domhotel_1257401791015',\n",
       " 'https://www.funtime.com.tw/domhotel/dom_detail.php?hid=domhotel_1349922814875_140711',\n",
       " 'https://www.funtime.com.tw/domhotel/dom_detail.php?hid=domhotel_1467339129108',\n",
       " 'https://www.funtime.com.tw/domhotel/dom_detail.php?hid=domhotel_1460692002437',\n",
       " 'https://www.funtime.com.tw/domhotel/dom_detail.php?hid=domhotel_1494252032903',\n",
       " 'https://www.funtime.com.tw/domhotel/dom_detail.php?hid=domhotel_1441874034745',\n",
       " 'https://www.funtime.com.tw/domhotel/dom_detail.php?hid=domhotel_1349922808609',\n",
       " 'https://www.funtime.com.tw/domhotel/dom_detail.php?hid=domhotel_1437542682817',\n",
       " 'https://www.funtime.com.tw/domhotel/dom_detail.php?hid=domhotel_1460692002437']"
      ]
     },
     "execution_count": 31,
     "metadata": {},
     "output_type": "execute_result"
    }
   ],
   "source": [
    "asiayoLink"
   ]
  },
  {
   "cell_type": "code",
   "execution_count": 43,
   "metadata": {},
   "outputs": [],
   "source": [
    "def compareAsiaYo(checkin, checkout, roomtype, asiayoLink):\n",
    "    pages = [] #把變數pages刷新\n",
    "    pages = [link + '&checkin={}&checkout={}&&&&&&roomtype_array%5B%5D={}&'.format(checkin, checkout, roomtype) for link in asiayoLink]\n",
    "    for page in pages:\n",
    "        resp = requests.get(page, headers=headers)\n",
    "        soup = BeautifulSoup(resp.text, 'lxml')\n",
    "        \n",
    "        # 商家、房型、內容、早餐...資訊\n",
    "        hotelinfos = soup.find_all(\"div\", {\"class\":\"result_table\"})[0]\n",
    "        # 商家\n",
    "        cheapstores = hotelinfos.find_all(\"div\", {\"class\":\"result_source\"})\n",
    "        cheapstore = [store.text.strip() for store in cheapstores]\n",
    "        # 內容\n",
    "        cheapcontents = hotelinfos.find_all(\"div\", {\"class\":\"result_type\"})\n",
    "        cheapcontent = [content.text.strip() for content in cheapcontents]\n",
    "        # 定價\n",
    "        cheapprices = hotelinfos.find_all(\"div\", {\"class\":\"result_price\"})\n",
    "        cheapprice = [price.text.strip() for price in cheapprices]\n",
    "        \n",
    "        # 使用很粗糙的方式判斷\n",
    "        length = len(cheapstores)\n",
    "        try:\n",
    "            if length == 4:\n",
    "                cheapstores = [cheapstore[1]]\n",
    "                cheapcontents = [cheapcontent[1]]\n",
    "                cheapprices = [cheapprice[1]]\n",
    "                length = 1\n",
    "            elif length == 6:\n",
    "                cheapstores = [cheapstore[1], cheapstore[3]]\n",
    "                cheapcontents = [cheapcontent[1], cheapcontent[3]]\n",
    "                cheapprices = [cheapprice[1], cheapprice[3]]\n",
    "                length = 2\n",
    "            elif length == 8:\n",
    "                cheapstores = [cheapstore[1], cheapstore[3], cheapstore[5]]\n",
    "                cheapcontents = [cheapcontent[1], cheapcontent[3], cheapcontent[5]]\n",
    "                cheapprices = [cheapprice[1], cheapprice[3], cheapprice[5]]\n",
    "                length = 3\n",
    "            else:\n",
    "                cheapstores = [cheapstore[1], cheapstore[3], cheapstore[5], cheapstore[7]]\n",
    "                cheapcontents = [cheapcontent[1], cheapcontent[3], cheapcontent[5], cheapcontent[7]]\n",
    "                cheapprices = [cheapprice[1], cheapprice[3], cheapprice[5], cheapprice[7]]\n",
    "                length = 4\n",
    "        except:\n",
    "            print(page)\n",
    "        \n",
    "        dic = {}\n",
    "        try:\n",
    "            for i in range(0, length):\n",
    "                dic[cheapstores[i]] = [cheapcontents[i], cheapprices[i]]\n",
    "            print(dic)\n",
    "        except:\n",
    "            print('ERROR!!!')\n",
    "            print(cheapstores)\n",
    "            print(cheapcontents)\n",
    "            print(cheapprices)\n",
    "        #接儲存dic在 資料庫or檔案"
   ]
  },
  {
   "cell_type": "code",
   "execution_count": 44,
   "metadata": {
    "scrolled": true
   },
   "outputs": [
    {
     "name": "stdout",
     "output_type": "stream",
     "text": [
      "{'agoda': ['標準房(2張單人床)(Standard Two Single Beds) (含早餐與晚餐)', '$3,617'], 'Expedia': ['標準雙床房', '$3,639'], 'Booking': ['雙床間 - 帶陽台 - 免費取消', '$3,640']}\n",
      "{'Trip': ['夏爾雙人套房 大床', '$1,909'], 'Expedia': ['高級雙人房', '$1,955'], 'AsiaYo': ['Double room(不含早餐)', '$2,090'], 'Hotels': ['高級雙人房 (免費無線上網)(可退費-可免費取消)', '$2,100']}\n",
      "{'Booking': ['標准雙人間', '$3,660'], 'AsiaYo': ['古堡館 201/202/101/102 雙人套房', '$3,660']}\n",
      "{'AsiaYo': ['2A', '$2,400']}\n",
      "{'Booking': ['標准大號床間 - 不退款', '$2,480'], 'agoda': ['標準雙人房(Standard Double)', '$2,480'], 'AsiaYo': ['戀愛の貓（雙人套房）', '$2,480']}\n",
      "{'Booking': ['雙人間A - 帶陽台 - 免費取消', '$3,600'], 'agoda': ['雙人房A - 帶陽台(Double Room with Balcony A)', '$3,600'], 'AsiaYo': ['1F 森林浴-雙人房', '$3,600']}\n",
      "{'Trip': ['標準雙人床房 大床', '$4,776'], 'AsiaYo': ['安妮樓中樓雙人城堡', '$5,000']}\n",
      "{'AsiaYo': ['經濟雙人房', '$1,000'], 'agoda': ['平價房(Budget Room)', '$1,024'], 'Booking': ['標准雙人間', '$1,400'], 'Trip': ['陽光雙人房 大床', '$1,758']}\n",
      "{'AsiaYo': ['2A', '$2,400']}\n"
     ]
    }
   ],
   "source": [
    "compareAsiaYo('2018-06-27', '2018-06-28', 'DBL', asiayoLink)"
   ]
  }
 ],
 "metadata": {
  "kernelspec": {
   "display_name": "Python 3",
   "language": "python",
   "name": "python3"
  },
  "language_info": {
   "codemirror_mode": {
    "name": "ipython",
    "version": 3
   },
   "file_extension": ".py",
   "mimetype": "text/x-python",
   "name": "python",
   "nbconvert_exporter": "python",
   "pygments_lexer": "ipython3",
   "version": "3.6.4"
  }
 },
 "nbformat": 4,
 "nbformat_minor": 2
}
