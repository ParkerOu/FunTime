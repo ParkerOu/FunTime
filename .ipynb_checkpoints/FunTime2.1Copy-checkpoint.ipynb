{
 "cells": [
  {
   "cell_type": "markdown",
   "metadata": {},
   "source": [
    "## FunTime比價網\n",
    "### 爬取網路上 最便宜的四個網路訂票網站\n",
    "### 提供 商家、內容、房價資訊，並限定有AsiaYo的住宿點"
   ]
  },
  {
   "cell_type": "code",
   "execution_count": 2,
   "metadata": {},
   "outputs": [],
   "source": [
    "import re\n",
    "import json\n",
    "import requests\n",
    "from bs4 import BeautifulSoup\n",
    "\n",
    "headers = json.loads(r'''{\n",
    "    \"Accept\": \"text/html,application/xhtml+xml,application/xml;q=0.9,image/webp,image/apng,*/*;q=0.8\",\n",
    "    \"Accept-Encoding\": \"gzip, deflate, br\",\n",
    "    \"Accept-Language\": \"zh-TW,zh;q=0.9,en-US;q=0.8,en;q=0.7\",\n",
    "    \"Cache-Control\": \"max-age=0\",\n",
    "    \"Connection\": \"keep-alive\",\n",
    "    \"Cookie\": \"packet_uid=0A58A13E-CDF5-9DCA-3624-33440A670283; PHPSESSID=jv9g81rkd92bbk5j4cqbfoeqn7; user=domhotel%7CTY%7C2018-05-23+21%3A42%3A49%3Bdomhotel%7CTY%7C2018-05-23+18%3A30%3A20%3Bdomhotel%7CYL%7C2018-05-23+18%3A28%3A14%3Bdomhotel%7CTY%7C2018-05-22+17%3A15%3A58%3B%3B%3B\",\n",
    "    \"Host\": \"www.funtime.com.tw\",\n",
    "    \"Upgrade-Insecure-Requests\": \"1\",\n",
    "    \"User-Agent\": \"Mozilla/5.0 (Windows NT 10.0; Win64; x64) AppleWebKit/537.36 (KHTML, like Gecko) Chrome/65.0.3325.181 Safari/537.36 OPR/52.0.2871.64\"\n",
    "}''')"
   ]
  },
  {
   "cell_type": "code",
   "execution_count": 3,
   "metadata": {},
   "outputs": [],
   "source": [
    "# 訂房地點查宜蘭住宿，雙人房\n",
    "# 不限雙人房: roomtype_array[]=none\n",
    "url = 'https://www.funtime.com.tw/domhotel/result.php?h_name=&checkin=2018-06-27&checkout=2018-06-28&city=YL&district=&viewspot=&sk=&roomtype_array[]=DBL&breakfast_array[]=none&price_array[]=none&roomprice_min=0&roomprice_max=30000&viewpoint_array[]=none&facility_array[]=none&source[]=none&&page=1&per_page=40&sort=hot_h&search=a'\n",
    "resp = requests.get(url, headers=headers)\n",
    "soup = BeautifulSoup(resp.text, 'lxml')"
   ]
  },
  {
   "cell_type": "code",
   "execution_count": 4,
   "metadata": {},
   "outputs": [
    {
     "data": {
      "text/plain": [
       "983"
      ]
     },
     "execution_count": 4,
     "metadata": {},
     "output_type": "execute_result"
    }
   ],
   "source": [
    "# 獲取總筆數\n",
    "total_room = int(re.findall('住宿共 (\\d+) 家飯店', resp.text)[0])\n",
    "total_room"
   ]
  },
  {
   "cell_type": "code",
   "execution_count": 5,
   "metadata": {},
   "outputs": [
    {
     "data": {
      "text/plain": [
       "24"
      ]
     },
     "execution_count": 5,
     "metadata": {},
     "output_type": "execute_result"
    }
   ],
   "source": [
    "# 預設一頁顯示 40筆，推敲總頁數\n",
    "# 第二頁網址後面是'&page=2'\n",
    "total_page = int(total_room / 40)\n",
    "total_page"
   ]
  },
  {
   "cell_type": "code",
   "execution_count": 6,
   "metadata": {},
   "outputs": [],
   "source": [
    "## 爬蟲使用方法\n",
    "for num in list(range(1, 25)):\n",
    "    url = 'https://www.funtime.com.tw/domhotel/result.php?h_name=&checkin=2018-06-27&checkout=2018-06-28&city=YL&district=&viewspot=&sk=&roomtype_array[]=DBL&breakfast_array[]=none&price_array[]=none&roomprice_min=0&roomprice_max=30000&viewpoint_array[]=none&facility_array[]=none&source[]=none&&page={}&per_page=40&sort=hot_h&search=a'.format(num)\n",
    "    ## 接下來去蟲..."
   ]
  },
  {
   "cell_type": "markdown",
   "metadata": {},
   "source": [
    "### 過濾所需資料"
   ]
  },
  {
   "cell_type": "markdown",
   "metadata": {},
   "source": [
    "<tr>\n",
    "    <td>\n",
    "        <img src=\"img/funtime1.JPG\", width=434, height=233, style=\"float:left;\">\n",
    "    </td>\n",
    "</tr>"
   ]
  },
  {
   "cell_type": "code",
   "execution_count": 7,
   "metadata": {},
   "outputs": [],
   "source": [
    "infos = soup.find_all(\"div\", {\"class\":\"result_center\"})"
   ]
  },
  {
   "cell_type": "code",
   "execution_count": 8,
   "metadata": {},
   "outputs": [
    {
     "data": {
      "text/plain": [
       "['Trip', '-', '-', 'agoda', 'Expedia', 'Booking', 'agoda', 'Booking', 'Trip']"
      ]
     },
     "execution_count": 8,
     "metadata": {},
     "output_type": "execute_result"
    }
   ],
   "source": [
    "# 商家\n",
    "sources = soup.find_all(\"div\", {\"class\":\"price_source\"})\n",
    "source = [s.text.strip() for s in sources]\n",
    "source[:9]"
   ]
  },
  {
   "cell_type": "code",
   "execution_count": 9,
   "metadata": {},
   "outputs": [
    {
     "data": {
      "text/plain": [
       "['https://www.funtime.com.tw/domhotel/dom_detail.php?hid=domhotel_1232518577484',\n",
       " 'https://www.funtime.com.tw/domhotel/dom_detail.php?hid=domhotel_1232518577484',\n",
       " 'https://www.funtime.com.tw/domhotel/dom_detail.php?hid=domhotel_1232518577484',\n",
       " 'https://www.funtime.com.tw/domhotel/dom_detail.php?hid=domhotel_1232518577484',\n",
       " 'https://www.funtime.com.tw/domhotel/dom_detail.php?hid=domhotel_1221811299437_81',\n",
       " 'https://www.funtime.com.tw/domhotel/dom_detail.php?hid=domhotel_1221811299437_81',\n",
       " 'https://www.funtime.com.tw/domhotel/dom_detail.php?hid=domhotel_1221811299437_81',\n",
       " 'https://www.funtime.com.tw/domhotel/dom_detail.php?hid=domhotel_1221811299437_81',\n",
       " 'https://www.funtime.com.tw/domhotel/dom_detail.php?hid=domhotel_1437542682817']"
      ]
     },
     "execution_count": 9,
     "metadata": {},
     "output_type": "execute_result"
    }
   ],
   "source": [
    "# 詳細頁面連結\n",
    "links = soup.find_all(\"a\", {\"class\":\"to_detail\"})\n",
    "link = ['https://www.funtime.com.tw/domhotel/' + l['href'] for l in links]\n",
    "link[:9]"
   ]
  },
  {
   "cell_type": "code",
   "execution_count": 22,
   "metadata": {},
   "outputs": [
    {
     "data": {
      "text/plain": [
       "['https://www.funtime.com.tw/domhotel/dom_detail.php?hid=domhotel_1232518577484',\n",
       " 'https://www.funtime.com.tw/domhotel/dom_detail.php?hid=domhotel_1221811299437_81',\n",
       " 'https://www.funtime.com.tw/domhotel/dom_detail.php?hid=domhotel_1437542682817']"
      ]
     },
     "execution_count": 22,
     "metadata": {},
     "output_type": "execute_result"
    }
   ],
   "source": [
    "# 詳細頁面有四個重複\n",
    "# 重新設定詳細連結\n",
    "# 為了保持順序，不能用set去除重複連結\n",
    "roomlink = []\n",
    "for l in link[::4]:\n",
    "    roomlink.append(l)\n",
    "roomlink[:3]"
   ]
  },
  {
   "cell_type": "markdown",
   "metadata": {},
   "source": [
    "### 筆記: [改變讀取順序](https://blog.csdn.net/iflysoft/article/details/9013315)"
   ]
  },
  {
   "cell_type": "markdown",
   "metadata": {},
   "source": [
    "<tr>\n",
    "    <td>\n",
    "        <img src=\"img/funtime2.JPG\", width=470, height=363, style=\"float:left;\">\n",
    "    </td>\n",
    "</tr>"
   ]
  },
  {
   "cell_type": "code",
   "execution_count": 21,
   "metadata": {},
   "outputs": [
    {
     "data": {
      "text/plain": [
       "['雄獅',\n",
       " '雄獅',\n",
       " 'AsiaYo',\n",
       " 'Trip',\n",
       " 'Booking',\n",
       " 'Expedia',\n",
       " 'Expedia',\n",
       " 'Trip',\n",
       " 'Booking']"
      ]
     },
     "execution_count": 21,
     "metadata": {},
     "output_type": "execute_result"
    }
   ],
   "source": [
    "# 最便宜商家\n",
    "stores = soup.find_all(\"div\", {\"class\":\"go_source\"})\n",
    "store = [s.text.lstrip('最低價：').strip() for s in stores]\n",
    "store[:9]"
   ]
  },
  {
   "cell_type": "markdown",
   "metadata": {},
   "source": [
    "### 筆記: [刪除特定字串](http://python3-cookbook-personal.readthedocs.io/zh_CN/latest/c02/p11_strip_unwanted_characters.html)"
   ]
  },
  {
   "cell_type": "markdown",
   "metadata": {},
   "source": [
    "## 過濾非AsiaYo的連結"
   ]
  },
  {
   "cell_type": "code",
   "execution_count": 49,
   "metadata": {},
   "outputs": [],
   "source": [
    "i = 0 # 陣列第幾個位置\n",
    "asiayoLink = [] # 包含AsiaYo的連結\n",
    "for s in source:\n",
    "    if s == 'AsiaYo':\n",
    "        asiayoLink.append(roomlink[int(i/3)]) # 3個一循環\n",
    "    i += 1"
   ]
  },
  {
   "cell_type": "code",
   "execution_count": 50,
   "metadata": {
    "scrolled": true
   },
   "outputs": [
    {
     "data": {
      "text/plain": [
       "['https://www.funtime.com.tw/domhotel/dom_detail.php?hid=domhotel_1257401791015',\n",
       " 'https://www.funtime.com.tw/domhotel/dom_detail.php?hid=domhotel_1349922814875_140711',\n",
       " 'https://www.funtime.com.tw/domhotel/dom_detail.php?hid=domhotel_1467339129108',\n",
       " 'https://www.funtime.com.tw/domhotel/dom_detail.php?hid=domhotel_1460692002437',\n",
       " 'https://www.funtime.com.tw/domhotel/dom_detail.php?hid=domhotel_1494252032903',\n",
       " 'https://www.funtime.com.tw/domhotel/dom_detail.php?hid=domhotel_1441874034745',\n",
       " 'https://www.funtime.com.tw/domhotel/dom_detail.php?hid=domhotel_1349922808609']"
      ]
     },
     "execution_count": 50,
     "metadata": {},
     "output_type": "execute_result"
    }
   ],
   "source": [
    "asiayoLink"
   ]
  },
  {
   "cell_type": "code",
   "execution_count": 53,
   "metadata": {},
   "outputs": [],
   "source": [
    "i = 0 # 陣列第幾個位置\n",
    "for s in store:\n",
    "    if s == 'AsiaYo':\n",
    "        asiayoLink.append(roomlink[i])\n",
    "    i += 1"
   ]
  },
  {
   "cell_type": "code",
   "execution_count": 55,
   "metadata": {},
   "outputs": [
    {
     "data": {
      "text/plain": [
       "['https://www.funtime.com.tw/domhotel/dom_detail.php?hid=domhotel_1257401791015',\n",
       " 'https://www.funtime.com.tw/domhotel/dom_detail.php?hid=domhotel_1349922814875_140711',\n",
       " 'https://www.funtime.com.tw/domhotel/dom_detail.php?hid=domhotel_1467339129108',\n",
       " 'https://www.funtime.com.tw/domhotel/dom_detail.php?hid=domhotel_1460692002437',\n",
       " 'https://www.funtime.com.tw/domhotel/dom_detail.php?hid=domhotel_1494252032903',\n",
       " 'https://www.funtime.com.tw/domhotel/dom_detail.php?hid=domhotel_1441874034745',\n",
       " 'https://www.funtime.com.tw/domhotel/dom_detail.php?hid=domhotel_1349922808609',\n",
       " 'https://www.funtime.com.tw/domhotel/dom_detail.php?hid=domhotel_1437542682817',\n",
       " 'https://www.funtime.com.tw/domhotel/dom_detail.php?hid=domhotel_1460692002437']"
      ]
     },
     "execution_count": 55,
     "metadata": {},
     "output_type": "execute_result"
    }
   ],
   "source": [
    "asiayoLink"
   ]
  },
  {
   "cell_type": "markdown",
   "metadata": {},
   "source": [
    "## 整理成function"
   ]
  },
  {
   "cell_type": "code",
   "execution_count": 56,
   "metadata": {},
   "outputs": [],
   "source": [
    "def searchAsiaYo(soup):\n",
    "    infos = soup.find_all(\"div\", {\"class\":\"result_center\"})\n",
    "    # 商家\n",
    "    sources = soup.find_all(\"div\", {\"class\":\"price_source\"})\n",
    "    source = [s.text.strip() for s in sources]\n",
    "    # 最便宜商家\n",
    "    stores = soup.find_all(\"div\", {\"class\":\"go_source\"})\n",
    "    store = [s.text.lstrip('最低價：').strip() for s in stores]\n",
    "    # 詳細頁面連結\n",
    "    links = soup.find_all(\"a\", {\"class\":\"to_detail\"})\n",
    "    link = ['https://www.funtime.com.tw/domhotel/' + l['href'] for l in links]\n",
    "    # 重新設定詳細連結\n",
    "    roomlink = []\n",
    "    for l in link[::4]:\n",
    "        roomlink.append(l)\n",
    "    \n",
    "    # 過濾非AsiaYo的連結\n",
    "    i = 0 # 陣列第幾個位置\n",
    "    asiayoLink = [] # 包含AsiaYo的連結\n",
    "    for s in source:\n",
    "        if s == 'AsiaYo':\n",
    "            asiayoLink.append(roomlink[int(i/3)])\n",
    "        i += 1\n",
    "    i = 0 # 陣列第幾個位置\n",
    "    for s in store:\n",
    "        if s == 'AsiaYo':\n",
    "            asiayoLink.append(roomlink[i])\n",
    "        i += 1\n",
    "    \n",
    "    return asiayoLink"
   ]
  },
  {
   "cell_type": "code",
   "execution_count": 57,
   "metadata": {},
   "outputs": [
    {
     "data": {
      "text/plain": [
       "['https://www.funtime.com.tw/domhotel/dom_detail.php?hid=domhotel_1257401791015',\n",
       " 'https://www.funtime.com.tw/domhotel/dom_detail.php?hid=domhotel_1349922814875_140711',\n",
       " 'https://www.funtime.com.tw/domhotel/dom_detail.php?hid=domhotel_1467339129108',\n",
       " 'https://www.funtime.com.tw/domhotel/dom_detail.php?hid=domhotel_1460692002437',\n",
       " 'https://www.funtime.com.tw/domhotel/dom_detail.php?hid=domhotel_1494252032903',\n",
       " 'https://www.funtime.com.tw/domhotel/dom_detail.php?hid=domhotel_1441874034745',\n",
       " 'https://www.funtime.com.tw/domhotel/dom_detail.php?hid=domhotel_1349922808609',\n",
       " 'https://www.funtime.com.tw/domhotel/dom_detail.php?hid=domhotel_1437542682817',\n",
       " 'https://www.funtime.com.tw/domhotel/dom_detail.php?hid=domhotel_1460692002437']"
      ]
     },
     "execution_count": 57,
     "metadata": {},
     "output_type": "execute_result"
    }
   ],
   "source": [
    "searchAsiaYo(soup)"
   ]
  },
  {
   "cell_type": "markdown",
   "metadata": {},
   "source": [
    "### 旅館詳細頁面\n",
    "### 爬取 商家、內容、每晚均價"
   ]
  },
  {
   "cell_type": "code",
   "execution_count": 58,
   "metadata": {},
   "outputs": [],
   "source": [
    "headers = json.loads(r'''{\n",
    "    \"Accept\": \"text/html,application/xhtml+xml,application/xml;q=0.9,image/webp,image/apng,*/*;q=0.8\",\n",
    "    \"Accept-Encoding\": \"gzip, deflate, br\",\n",
    "    \"Accept-Language\": \"zh-TW,zh;q=0.9,en-US;q=0.8,en;q=0.7\", \n",
    "    \"Connection\": \"keep-alive\",\n",
    "    \"Cookie\": \"packet_uid=0A58A13E-CDF5-9DCA-3624-33440A670283; day1remind_box_DHC3=2; PHPSESSID=spsunenkeloohmoa2vdsbd85u0; user=domhotel%7CYL%7C2018-05-24+09%3A03%3A51%3Bdomhotel%7CYL%7C2018-05-23+23%3A30%3A23%3Bdomhotel%7CYL%7C2018-05-23+22%3A27%3A42%3Bdomhotel%7CYL%7C2018-05-23+22%3A26%3A08%3Bdomhotel%7CYL%7C2018-05-23+21%3A53%3A09%3Bdomhotel%7CYL%7C2018-05-23+21%3A52%3A59%3B\",\n",
    "    \"Host\": \"www.funtime.com.tw\",\n",
    "    \"Referer\": \"https://www.funtime.com.tw/domhotel/%E5%AE%9C%E8%98%AD%E4%BD%8F%E5%AE%BF\",\n",
    "    \"Upgrade-Insecure-Requests\": \"1\",\n",
    "    \"User-Agent\": \"Mozilla/5.0 (Windows NT 10.0; Win64; x64) AppleWebKit/537.36 (KHTML, like Gecko) Chrome/65.0.3325.181 Safari/537.36 OPR/52.0.2871.64\"\n",
    "}''')"
   ]
  },
  {
   "cell_type": "markdown",
   "metadata": {},
   "source": [
    "### 進入詳細頁面，帶入查詢條件"
   ]
  },
  {
   "cell_type": "code",
   "execution_count": 59,
   "metadata": {},
   "outputs": [],
   "source": [
    "checkin = '2018-06-27'\n",
    "checkout = '2018-06-28'\n",
    "roomtype = 'DBL' #雙人房\n",
    "\n",
    "pages = [] #把變數pages刷新\n",
    "pages = [link + '&checkin={}&checkout={}&&&&&&roomtype_array%5B%5D={}&'.format(checkin, checkout, roomtype) for link in asiayoLink]\n",
    "\n",
    "url = pages[0] #隨便挑一個測試，重點在於擷取內文頁的資訊\n",
    "resp = requests.get(url, headers=headers)\n",
    "soup = BeautifulSoup(resp.text, 'lxml')"
   ]
  },
  {
   "cell_type": "code",
   "execution_count": 60,
   "metadata": {},
   "outputs": [],
   "source": [
    "# 商家、房型、內容、早餐...資訊\n",
    "hotelinfos = soup.find_all(\"div\", {\"class\":\"result_table\"})[0]"
   ]
  },
  {
   "cell_type": "markdown",
   "metadata": {},
   "source": [
    "#### 過濾不必要的，取前四名"
   ]
  },
  {
   "cell_type": "code",
   "execution_count": 92,
   "metadata": {},
   "outputs": [
    {
     "data": {
      "text/plain": [
       "['agoda', 'Expedia', 'Booking', 'Hotels']"
      ]
     },
     "execution_count": 92,
     "metadata": {},
     "output_type": "execute_result"
    }
   ],
   "source": [
    "cheapstores = [cheapstore[1], cheapstore[3], cheapstore[5], cheapstore[7]]\n",
    "cheapstores"
   ]
  },
  {
   "cell_type": "code",
   "execution_count": 63,
   "metadata": {},
   "outputs": [
    {
     "data": {
      "text/plain": [
       "['Expedia', 'Booking', 'AsiaYo', 'agoda']"
      ]
     },
     "execution_count": 63,
     "metadata": {},
     "output_type": "execute_result"
    }
   ],
   "source": [
    "# 商家\n",
    "cheapstores = hotelinfos.find_all(\"div\", {\"class\":\"result_source\"})\n",
    "cheapstores = [cheapstore[1], cheapstore[3], cheapstore[5], cheapstore[7]]\n",
    "cheapstores"
   ]
  },
  {
   "cell_type": "code",
   "execution_count": 64,
   "metadata": {},
   "outputs": [],
   "source": [
    "# 內容\n",
    "cheapcontents = hotelinfos.find_all(\"div\", {\"class\":\"result_type\"})"
   ]
  },
  {
   "cell_type": "code",
   "execution_count": 65,
   "metadata": {},
   "outputs": [
    {
     "data": {
      "text/plain": [
       "['標準雙床房',\n",
       " '雙床間 - 帶陽台 - 免費取消',\n",
       " '綠光雙人房（兩單床）',\n",
       " '標準雙人房 - 禁菸(Standard Double - Non-Smoking)']"
      ]
     },
     "execution_count": 65,
     "metadata": {},
     "output_type": "execute_result"
    }
   ],
   "source": [
    "cheapcontent = [content.text.strip() for content in cheapcontents]\n",
    "cheapcontents = [cheapcontent[1], cheapcontent[3], cheapcontent[5], cheapcontent[7]]\n",
    "cheapcontents"
   ]
  },
  {
   "cell_type": "code",
   "execution_count": 66,
   "metadata": {
    "scrolled": true
   },
   "outputs": [
    {
     "data": {
      "text/plain": [
       "['$3,639', '$3,640', '$3,640', '$3,911']"
      ]
     },
     "execution_count": 66,
     "metadata": {},
     "output_type": "execute_result"
    }
   ],
   "source": [
    "# 定價\n",
    "cheapprices = hotelinfos.find_all(\"div\", {\"class\":\"result_price\"})\n",
    "cheapprice = [price.text.strip() for price in cheapprices]\n",
    "cheapprices = [cheapprice[1], cheapprice[3], cheapprice[5], cheapprice[7]]\n",
    "cheapprices"
   ]
  },
  {
   "cell_type": "markdown",
   "metadata": {},
   "source": [
    "## 整理成function"
   ]
  },
  {
   "cell_type": "code",
   "execution_count": 69,
   "metadata": {},
   "outputs": [],
   "source": [
    "def compareAsiaYo(checkin, checkout, roomtype):\n",
    "    pages = [] #把變數pages刷新\n",
    "    pages = [link + '&checkin={}&checkout={}&&&&&&roomtype_array%5B%5D={}&'.format(checkin, checkout, roomtype) for link in asiayoLink]\n",
    "    for page in pages:\n",
    "        resp = requests.get(url, headers=headers)\n",
    "        soup = BeautifulSoup(resp.text, 'lxml')\n",
    "        \n",
    "        # 商家、房型、內容、早餐...資訊\n",
    "        hotelinfos = soup.find_all(\"div\", {\"class\":\"result_table\"})[0]\n",
    "        # 商家\n",
    "        cheapstores = hotelinfos.find_all(\"div\", {\"class\":\"result_source\"})\n",
    "        cheapstores = [cheapstore[1], cheapstore[3], cheapstore[5], cheapstore[7]]\n",
    "        # 內容\n",
    "        cheapcontents = hotelinfos.find_all(\"div\", {\"class\":\"result_type\"})\n",
    "        cheapcontent = [content.text.strip() for content in cheapcontents]\n",
    "        cheapcontents = [cheapcontent[1], cheapcontent[3], cheapcontent[5], cheapcontent[7]]\n",
    "        # 定價\n",
    "        cheapprices = hotelinfos.find_all(\"div\", {\"class\":\"result_price\"})\n",
    "        cheapprice = [price.text.strip() for price in cheapprices]\n",
    "        cheapprices = [cheapprice[1], cheapprice[3], cheapprice[5], cheapprice[7]]\n",
    "        \n",
    "        dic = {}\n",
    "        for i in range(0, 4):\n",
    "            dic[cheapstores[i]] = [cheapcontents[i], cheapprices[i]]\n",
    "        return dic"
   ]
  },
  {
   "cell_type": "code",
   "execution_count": 70,
   "metadata": {},
   "outputs": [
    {
     "data": {
      "text/plain": [
       "{'AsiaYo': ['綠光雙人房（兩單床）', '$3,640'],\n",
       " 'Booking': ['雙床間 - 帶陽台 - 免費取消', '$3,640'],\n",
       " 'Expedia': ['標準雙床房', '$3,639'],\n",
       " 'agoda': ['標準雙人房 - 禁菸(Standard Double - Non-Smoking)', '$3,911']}"
      ]
     },
     "execution_count": 70,
     "metadata": {},
     "output_type": "execute_result"
    }
   ],
   "source": [
    "compareAsiaYo('2018-06-27', '2018-06-28', 'DBL')"
   ]
  }
 ],
 "metadata": {
  "kernelspec": {
   "display_name": "Python 3",
   "language": "python",
   "name": "python3"
  },
  "language_info": {
   "codemirror_mode": {
    "name": "ipython",
    "version": 3
   },
   "file_extension": ".py",
   "mimetype": "text/x-python",
   "name": "python",
   "nbconvert_exporter": "python",
   "pygments_lexer": "ipython3",
   "version": "3.6.4"
  }
 },
 "nbformat": 4,
 "nbformat_minor": 2
}
